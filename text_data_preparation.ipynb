{
 "cells": [
  {
   "cell_type": "markdown",
   "id": "78621f7d",
   "metadata": {},
   "source": [
    "#### Get 'The Verdict' Text."
   ]
  },
  {
   "cell_type": "code",
   "execution_count": 1,
   "id": "ac735184",
   "metadata": {},
   "outputs": [
    {
     "name": "stdout",
     "output_type": "stream",
     "text": [
      "I HAD always thought Jack Gisburn rather a cheap genius--though a good fellow enough--so it was no great surprise to me to hear that, in the height of his glory, he had dropped his painting, married a rich widow, and established himself in a villa on the Riviera. (Though I rather thought it would have been Rome or Florence.)\n",
      "\n",
      "\"The height of his glory\"--that was what the women called it. I can hear Mrs. Gideon Thwing--his last Chicago sitter--deploring his unaccountable abdication. \"Of course it's going to send the value of my picture 'way up; but I don't think of that, Mr. Rickham--the loss to Arrt is all I think of.\" The word, on Mrs. Thwing's lips, multiplied its _rs_ as though they were reflected in an endless vista of mirrors. And it was not only the Mrs. Thwings who mourned. Had not the exquisite Hermia Croft, at the last Grafton Gallery show, stopped me before Gisburn's \"Moon-dancers\" to say, with tears in her eyes: \"We shall not look upon its like again\"?\n",
      "\n",
      "Well!--even through the prism of Hermia's tears I felt able to face the fact with equanimity. Poor Jack Gisburn! The women had made him--it was fitting that they should mourn him. Among his own sex fewer regrets were heard, and in his own trade hardly a murmur. Professional jealousy? Perhaps. If it were, the honour of the craft was vindicated by little Claude Nutley, who, in all good faith, brought out in the Burlington a very handsome \"obituary\" on Jack--one of those showy articles stocked with random technicalities that I have heard (I won't say by whom) compared to Gisburn's painting. And so--his resolve being apparently irrevocable--the discussion gradually died out, and, as Mrs. Thwing had predicted, the price of \"Gisburns\" went up.\n",
      "\n",
      "It was not till three years later that, in the course of a few weeks' idling on the Riviera, it suddenly occurred to me to wonder why Gisburn had given up his painting. On reflection, it really was a tempting problem. To accuse his wife would have been too easy--his fair sitters had been denied the solace of saying that Mrs. Gisburn had \"dragged him down.\" For Mrs. Gisburn--as such--had not existed till nearly a year after Jack's resolve had been taken. It might be that he had married her--since he liked his ease--because he didn't want to go on painting; but it would have been hard to prove that he had given up his painting because he had married her.\n",
      "\n",
      "Of course, if she had not dragged him down, she had equally, as Miss Croft contended, failed to \"lift him up\"--she had not led him back to the easel. To put the brush into his hand again--what a vocation for a wife! But Mrs. Gisburn appeared to have disdained it--and I felt it might be interesting to find out why.\n",
      "\n",
      "The desultory life of the Riviera lends itself to such purely academic speculations; and having, on my way to Monte Carlo, caught a glimpse of Jack's balustraded terraces between the pines, I had myself borne thither the next day.\n",
      "\n",
      "I found the couple at tea beneath their palm-trees; and Mrs. Gisburn's welcome was so genial that, in the ensuing weeks, I claimed it frequently. It was not that my hostess was \"interesting\": on that point I could have given Miss Croft the fullest reassurance. It was just because she was _not_ interesting--if I may be pardoned the bull--that I found her so. For Jack, all his life, had been surrounded by interesting women: they had fostered his art, it had been reared in the hot-house of their adulation. And it was therefore instructive to note what effect the \"deadening atmosphere of mediocrity\" (I quote Miss Croft) was having on him.\n",
      "\n",
      "I have mentioned that Mrs. Gisburn was rich; and it was immediately perceptible that her husband was extracting from this circumstance a delicate but substantial satisfaction. It is, as a rule, the people who scorn money who get most out of it; and Jack's elegant disdain of his wife's big balance enabled him, with an appearance of perfect good-breeding, to transmute it into objects of art and luxury. To the latter, I must add, he remained relatively indifferent; but he was buying Renaissance bronzes and eighteenth-century pictures with a discrimination that bespoke the amplest resources.\n",
      "\n",
      "\"Money's only excuse is to put beauty into circulation,\" was one of the axioms he laid down across the Sevres and silver of an exquisitely appointed luncheon-table, when, on a later day, I had again run over from Monte Carlo; and Mrs. Gisburn, beaming on him, added for my enlightenment: \"Jack is so morbidly sensitive to every form of beauty.\"\n",
      "\n",
      "Poor Jack! It had always been his fate to have women say such things of him: the fact should be set down in extenuation. What struck me now was that, for the first time, he resented the tone. I had seen him, so often, basking under similar tributes--was it the conjugal note that robbed them of their savour? No--for, oddly enough, it became apparent that he was fond of Mrs. Gisburn--fond enough not to see her absurdity. It was his own absurdity he seemed to be wincing under--his own attitude as an object for garlands and incense.\n",
      "\n",
      "\"My dear, since I've chucked painting people don't say that stuff about me--they say it about Victor Grindle,\" was his only protest, as he rose from the table and strolled out onto the sunlit terrace.\n",
      "\n",
      "I glanced after him, struck by his last word. Victor Grindle was, in fact, becoming the man of the moment--as Jack himself, one might put it, had been the man of the hour. The younger artist was said to have formed himself at my friend's feet, and I wondered if a tinge of jealousy underlay the latter's mysterious abdication. But no--for it was not till after that event that the _rose Dubarry_ drawing-rooms had begun to display their \"Grindles.\"\n",
      "\n",
      "I turned to Mrs. Gisburn, who had lingered to give a lump of sugar to her spaniel in the dining-room.\n",
      "\n",
      "\"Why _has_ he chucked painting?\" I asked abruptly.\n",
      "\n",
      "She raised her eyebrows with a hint of good-humoured surprise.\n",
      "\n",
      "\"Oh, he doesn't _have_ to now, you know; and I want him to enjoy himself,\" she said quite simply.\n",
      "\n",
      "I looked about the spacious white-panelled room, with its _famille-verte_ vases repeating the tones of the pale damask curtains, and its eighteenth-century pastels in delicate faded frames.\n",
      "\n",
      "\"Has he chucked his pictures too? I haven't seen a single one in the house.\"\n",
      "\n",
      "A slight shade of constraint crossed Mrs. Gisburn's open countenance. \"It's his ridiculous modesty, you know. He says they're not fit to have about; he's sent them all away except one--my portrait--and that I have to keep upstairs.\"\n",
      "\n",
      "His ridiculous modesty--Jack's modesty about his pictures? My curiosity was growing like the bean-stalk. I said persuasively to my hostess: \"I must really see your portrait, you know.\"\n",
      "\n",
      "She glanced out almost timorously at the terrace where her husband, lounging in a hooded chair, had lit a cigar and drawn the Russian deerhound's head between his knees.\n",
      "\n",
      "\"Well, come while he's not looking,\" she said, with a laugh that tried to hide her nervousness; and I followed her between the marble Emperors of the hall, and up the wide stairs with terra-cotta nymphs poised among flowers at each landing.\n",
      "\n",
      "In the dimmest corner of her boudoir, amid a profusion of delicate and distinguished objects, hung one of the familiar oval canvases, in the inevitable garlanded frame. The mere outline of the frame called up all Gisburn's past!\n",
      "\n",
      "Mrs. Gisburn drew back the window-curtains, moved aside a _jardiniere_ full of pink azaleas, pushed an arm-chair away, and said: \"If you stand here you can just manage to see it. I had it over the mantel-piece, but he wouldn't let it stay.\"\n",
      "\n",
      "Yes--I could just manage to see it--the first portrait of Jack's I had ever had to strain my eyes over! Usually they had the place of honour--say the central panel in a pale yellow or _rose Dubarry_ drawing-room, or a monumental easel placed so that it took the light through curtains of old Venetian point. The more modest place became the picture better; yet, as my eyes grew accustomed to the half-light, all the characteristic qualities came out--all the hesitations disguised as audacities, the tricks of prestidigitation by which, with such consummate skill, he managed to divert attention from the real business of the picture to some pretty irrelevance of detail. Mrs. Gisburn, presenting a neutral surface to work on--forming, as it were, so inevitably the background of her own picture--had lent herself in an unusual degree to the display of this false virtuosity. The picture was one of Jack's \"strongest,\" as his admirers would have put it--it represented, on his part, a swelling of muscles, a congesting of veins, a balancing, straddling and straining, that reminded one of the circus-clown's ironic efforts to lift a feather. It met, in short, at every point the demand of lovely woman to be painted \"strongly\" because she was tired of being painted \"sweetly\"--and yet not to lose an atom of the sweetness.\n",
      "\n",
      "\"It's the last he painted, you know,\" Mrs. Gisburn said with pardonable pride. \"The last but one,\" she corrected herself--\"but the other doesn't count, because he destroyed it.\"\n",
      "\n",
      "\"Destroyed it?\" I was about to follow up this clue when I heard a footstep and saw Jack himself on the threshold.\n",
      "\n",
      "As he stood there, his hands in the pockets of his velveteen coat, the thin brown waves of hair pushed back from his white forehead, his lean sunburnt cheeks furrowed by a smile that lifted the tips of a self-confident moustache, I felt to what a degree he had the same quality as his pictures--the quality of looking cleverer than he was.\n",
      "\n",
      "His wife glanced at him deprecatingly, but his eyes travelled past her to the portrait.\n",
      "\n",
      "\"Mr. Rickham wanted to see it,\" she began, as if excusing herself. He shrugged his shoulders, still smiling.\n",
      "\n",
      "\"Oh, Rickham found me out long ago,\" he said lightly; then, passing his arm through mine: \"Come and see the rest of the house.\"\n",
      "\n",
      "He showed it to me with a kind of naive suburban pride: the bath-rooms, the speaking-tubes, the dress-closets, the trouser-presses--all the complex simplifications of the millionaire's domestic economy. And whenever my wonder paid the expected tribute he said, throwing out his chest a little: \"Yes, I really don't see how people manage to live without that.\"\n",
      "\n",
      "Well--it was just the end one might have foreseen for him. Only he was, through it all and in spite of it all--as he had been through, and in spite of, his pictures--so handsome, so charming, so disarming, that one longed to cry out: \"Be dissatisfied with your leisure!\" as once one had longed to say: \"Be dissatisfied with your work!\"\n",
      "\n",
      "But, with the cry on my lips, my diagnosis suffered an unexpected check.\n",
      "\n",
      "\"This is my own lair,\" he said, leading me into a dark plain room at the end of the florid vista. It was square and brown and leathery: no \"effects\"; no bric-a-brac, none of the air of posing for reproduction in a picture weekly--above all, no least sign of ever having been used as a studio.\n",
      "\n",
      "The fact brought home to me the absolute finality of Jack's break with his old life.\n",
      "\n",
      "\"Don't you ever dabble with paint any more?\" I asked, still looking about for a trace of such activity.\n",
      "\n",
      "\"Never,\" he said briefly.\n",
      "\n",
      "\"Or water-colour--or etching?\"\n",
      "\n",
      "His confident eyes grew dim, and his cheeks paled a little under their handsome sunburn.\n",
      "\n",
      "\"Never think of it, my dear fellow--any more than if I'd never touched a brush.\"\n",
      "\n",
      "And his tone told me in a flash that he never thought of anything else.\n",
      "\n",
      "I moved away, instinctively embarrassed by my unexpected discovery; and as I turned, my eye fell on a small picture above the mantel-piece--the only object breaking the plain oak panelling of the room.\n",
      "\n",
      "\"Oh, by Jove!\" I said.\n",
      "\n",
      "It was a sketch of a donkey--an old tired donkey, standing in the rain under a wall.\n",
      "\n",
      "\"By Jove--a Stroud!\" I cried.\n",
      "\n",
      "He was silent; but I felt him close behind me, breathing a little quickly.\n",
      "\n",
      "\"What a wonder! Made with a dozen lines--but on everlasting foundations. You lucky chap, where did you get it?\"\n",
      "\n",
      "He answered slowly: \"Mrs. Stroud gave it to me.\"\n",
      "\n",
      "\"Ah--I didn't know you even knew the Strouds. He was such an inflexible hermit.\"\n",
      "\n",
      "\"I didn't--till after. . . . She sent for me to paint him when he was dead.\"\n",
      "\n",
      "\"When he was dead? You?\"\n",
      "\n",
      "I must have let a little too much amazement escape through my surprise, for he answered with a deprecating laugh: \"Yes--she's an awful simpleton, you know, Mrs. Stroud. Her only idea was to have him done by a fashionable painter--ah, poor Stroud! She thought it the surest way of proclaiming his greatness--of forcing it on a purblind public. And at the moment I was _the_ fashionable painter.\"\n",
      "\n",
      "\"Ah, poor Stroud--as you say. Was _that_ his history?\"\n",
      "\n",
      "\"That was his history. She believed in him, gloried in him--or thought she did. But she couldn't bear not to have all the drawing-rooms with her. She couldn't bear the fact that, on varnishing days, one could always get near enough to see his pictures. Poor woman! She's just a fragment groping for other fragments. Stroud is the only whole I ever knew.\"\n",
      "\n",
      "\"You ever knew? But you just said--\"\n",
      "\n",
      "Gisburn had a curious smile in his eyes.\n",
      "\n",
      "\"Oh, I knew him, and he knew me--only it happened after he was dead.\"\n",
      "\n",
      "I dropped my voice instinctively. \"When she sent for you?\"\n",
      "\n",
      "\"Yes--quite insensible to the irony. She wanted him vindicated--and by me!\"\n",
      "\n",
      "He laughed again, and threw back his head to look up at the sketch of the donkey. \"There were days when I couldn't look at that thing--couldn't face it. But I forced myself to put it here; and now it's cured me--cured me. That's the reason why I don't dabble any more, my dear Rickham; or rather Stroud himself is the reason.\"\n",
      "\n",
      "For the first time my idle curiosity about my companion turned into a serious desire to understand him better.\n",
      "\n",
      "\"I wish you'd tell me how it happened,\" I said.\n",
      "\n",
      "He stood looking up at the sketch, and twirling between his fingers a cigarette he had forgotten to light. Suddenly he turned toward me.\n",
      "\n",
      "\"I'd rather like to tell you--because I've always suspected you of loathing my work.\"\n",
      "\n",
      "I made a deprecating gesture, which he negatived with a good-humoured shrug.\n",
      "\n",
      "\"Oh, I didn't care a straw when I believed in myself--and now it's an added tie between us!\"\n",
      "\n",
      "He laughed slightly, without bitterness, and pushed one of the deep arm-chairs forward. \"There: make yourself comfortable--and here are the cigars you like.\"\n",
      "\n",
      "He placed them at my elbow and continued to wander up and down the room, stopping now and then beneath the picture.\n",
      "\n",
      "\"How it happened? I can tell you in five minutes--and it didn't take much longer to happen. . . . I can remember now how surprised and pleased I was when I got Mrs. Stroud's note. Of course, deep down, I had always _felt_ there was no one like him--only I had gone with the stream, echoed the usual platitudes about him, till I half got to think he was a failure, one of the kind that are left behind. By Jove, and he _was_ left behind--because he had come to stay! The rest of us had to let ourselves be swept along or go under, but he was high above the current--on everlasting foundations, as you say.\n",
      "\n",
      "\"Well, I went off to the house in my most egregious mood--rather moved, Lord forgive me, at the pathos of poor Stroud's career of failure being crowned by the glory of my painting him! Of course I meant to do the picture for nothing--I told Mrs. Stroud so when she began to stammer something about her poverty. I remember getting off a prodigious phrase about the honour being _mine_--oh, I was princely, my dear Rickham! I was posing to myself like one of my own sitters.\n",
      "\n",
      "\"Then I was taken up and left alone with him. I had sent all my traps in advance, and I had only to set up the easel and get to work. He had been dead only twenty-four hours, and he died suddenly, of heart disease, so that there had been no preliminary work of destruction--his face was clear and untouched. I had met him once or twice, years before, and thought him insignificant and dingy. Now I saw that he was superb.\n",
      "\n",
      "\"I was glad at first, with a merely aesthetic satisfaction: glad to have my hand on such a 'subject.' Then his strange life-likeness began to affect me queerly--as I blocked the head in I felt as if he were watching me do it. The sensation was followed by the thought: if he _were_ watching me, what would he say to my way of working? My strokes began to go a little wild--I felt nervous and uncertain.\n",
      "\n",
      "\"Once, when I looked up, I seemed to see a smile behind his close grayish beard--as if he had the secret, and were amusing himself by holding it back from me. That exasperated me still more. The secret? Why, I had a secret worth twenty of his! I dashed at the canvas furiously, and tried some of my bravura tricks. But they failed me, they crumbled. I saw that he wasn't watching the showy bits--I couldn't distract his attention; he just kept his eyes on the hard passages between. Those were the ones I had always shirked, or covered up with some lying paint. And how he saw through my lies!\n",
      "\n",
      "\"I looked up again, and caught sight of that sketch of the donkey hanging on the wall near his bed. His wife told me afterward it was the last thing he had done--just a note taken with a shaking hand, when he was down in Devonshire recovering from a previous heart attack. Just a note! But it tells his whole history. There are years of patient scornful persistence in every line. A man who had swum with the current could never have learned that mighty up-stream stroke. . . .\n",
      "\n",
      "\"I turned back to my work, and went on groping and muddling; then I looked at the donkey again. I saw that, when Stroud laid in the first stroke, he knew just what the end would be. He had possessed his subject, absorbed it, recreated it. When had I done that with any of my things? They hadn't been born of me--I had just adopted them. . . .\n",
      "\n",
      "\"Hang it, Rickham, with that face watching me I couldn't do another stroke. The plain truth was, I didn't know where to put it--_I had never known_. Only, with my sitters and my public, a showy splash of colour covered up the fact--I just threw paint into their faces. . . . Well, paint was the one medium those dead eyes could see through--see straight to the tottering foundations underneath. Don't you know how, in talking a foreign language, even fluently, one says half the time not what one wants to but what one can? Well--that was the way I painted; and as he lay there and watched me, the thing they called my 'technique' collapsed like a house of cards. He didn't sneer, you understand, poor Stroud--he just lay there quietly watching, and on his lips, through the gray beard, I seemed to hear the question: 'Are you sure you know where you're coming out?'\n",
      "\n",
      "\"If I could have painted that face, with that question on it, I should have done a great thing. The next greatest thing was to see that I couldn't--and that grace was given me. But, oh, at that minute, Rickham, was there anything on earth I wouldn't have given to have Stroud alive before me, and to hear him say: 'It's not too late--I'll show you how'?\n",
      "\n",
      "\"It _was_ too late--it would have been, even if he'd been alive. I packed up my traps, and went down and told Mrs. Stroud. Of course I didn't tell her _that_--it would have been Greek to her. I simply said I couldn't paint him, that I was too moved. She rather liked the idea--she's so romantic! It was that that made her give me the donkey. But she was terribly upset at not getting the portrait--she did so want him 'done' by some one showy! At first I was afraid she wouldn't let me off--and at my wits' end I suggested Grindle. Yes, it was I who started Grindle: I told Mrs. Stroud he was the 'coming' man, and she told somebody else, and so it got to be true. . . . And he painted Stroud without wincing; and she hung the picture among her husband's things. . . .\"\n",
      "\n",
      "He flung himself down in the arm-chair near mine, laid back his head, and clasping his arms beneath it, looked up at the picture above the chimney-piece.\n",
      "\n",
      "\"I like to fancy that Stroud himself would have given it to me, if he'd been able to say what he thought that day.\"\n",
      "\n",
      "And, in answer to a question I put half-mechanically--\"Begin again?\" he flashed out. \"When the one thing that brings me anywhere near him is that I knew enough to leave off?\"\n",
      "\n",
      "He stood up and laid his hand on my shoulder with a laugh. \"Only the irony of it is that I _am_ still painting--since Grindle's doing it for me! The Strouds stand alone, and happen once--but there's no exterminating our kind of art.\"\n"
     ]
    }
   ],
   "source": [
    "# Get our sample document's contents as raw text\n",
    "from typing import List\n",
    "\n",
    "with open(\"data/the-verdict.txt\", \"r\") as the_verdict_file:\n",
    "  the_verdict_raw_text = the_verdict_file.read() # Read in text from 'The Verdict'\n",
    "\n",
    "print(the_verdict_raw_text)"
   ]
  },
  {
   "cell_type": "code",
   "execution_count": 2,
   "id": "028cd798",
   "metadata": {},
   "outputs": [
    {
     "data": {
      "text/plain": [
       "20479"
      ]
     },
     "execution_count": 2,
     "metadata": {},
     "output_type": "execute_result"
    }
   ],
   "source": [
    "len(the_verdict_raw_text)"
   ]
  },
  {
   "cell_type": "code",
   "execution_count": 3,
   "id": "47e79584",
   "metadata": {},
   "outputs": [
    {
     "name": "stdout",
     "output_type": "stream",
     "text": [
      "Imported regular expressions!\n"
     ]
    }
   ],
   "source": [
    "# Import regular expressions\n",
    "import re\n",
    "print(\"Imported regular expressions!\")"
   ]
  },
  {
   "cell_type": "markdown",
   "id": "437dd4b4",
   "metadata": {},
   "source": [
    "#### Tokenize 'The Verdict', removing white space, punctuation, and treating individual words as tokens."
   ]
  },
  {
   "cell_type": "code",
   "execution_count": 4,
   "id": "98010ba4",
   "metadata": {},
   "outputs": [
    {
     "name": "stdout",
     "output_type": "stream",
     "text": [
      "['I', ' ', 'HAD', ' ', 'always', ' ', 'thought', ' ', 'Jack', ' ', 'Gisburn', ' ', 'rather', ' ', 'a', ' ', 'cheap', ' ', 'genius', '--', 'though', ' ', 'a', ' ', 'good', ' ', 'fellow', ' ', 'enough', '--', 'so', ' ', 'it', ' ', 'was', ' ', 'no', ' ', 'great', ' ', 'surprise', ' ', 'to', ' ', 'me', ' ', 'to', ' ', 'hear', ' ', 'that', ',', '', ' ', 'in', ' ', 'the', ' ', 'height', ' ', 'of', ' ', 'his', ' ', 'glory', ',', '', ' ', 'he', ' ', 'had', ' ', 'dropped', ' ', 'his', ' ', 'painting', ',', '', ' ', 'married', ' ', 'a', ' ', 'rich', ' ', 'widow', ',', '', ' ', 'and', ' ', 'established', ' ', 'himself', ' ', 'in', ' ', 'a', ' ', 'villa', ' ', 'on', ' ', 'the', ' ', 'Riviera', '.', '', ' ', '', '(', 'Though', ' ', 'I', ' ', 'rather', ' ', 'thought', ' ', 'it', ' ', 'would', ' ', 'have', ' ', 'been', ' ', 'Rome', ' ', 'or', ' ', 'Florence', '.', '', ')', '', '\\n', '', '\\n', '', '\"', 'The', ' ', 'height', ' ', 'of', ' ', 'his', ' ', 'glory', '\"', '', '--', 'that', ' ', 'was', ' ', 'what', ' ', 'the', ' ', 'women', ' ', 'called', ' ', 'it', '.', '', ' ', 'I', ' ', 'can', ' ', 'hear', ' ', 'Mrs', '.', '', ' ', 'Gideon', ' ', 'Thwing', '--', 'his', ' ', 'last', ' ', 'Chicago', ' ', 'sitter', '--', 'deploring', ' ', 'his', ' ', 'unaccountable', ' ', 'abdication', '.', '', ' ', '', '\"', 'Of', ' ', 'course', ' ', 'it', \"'\", 's', ' ', 'going', ' ', 'to', ' ', 'send', ' ', 'the', ' ', 'value', ' ', 'of', ' ', 'my', ' ', 'picture', ' ', '', \"'\", 'way', ' ', 'up', ';', '', ' ', 'but', ' ', 'I', ' ', 'don', \"'\", 't', ' ', 'think', ' ', 'of', ' ', 'that', ',', '', ' ', 'Mr', '.', '', ' ', 'Rickham', '--', 'the', ' ', 'loss', ' ', 'to', ' ', 'Arrt', ' ', 'is', ' ', 'all', ' ', 'I', ' ', 'think', ' ', 'of', '.', '', '\"', '', ' ', 'The', ' ', 'word', ',', '', ' ', 'on', ' ', 'Mrs', '.', '', ' ', 'Thwing', \"'\", 's', ' ', 'lips', ',', '', ' ', 'multiplied', ' ', 'its', ' ', '', '_', 'rs', '_', '', ' ', 'as', ' ', 'though', ' ', 'they', ' ', 'were', ' ', 'reflected', ' ', 'in', ' ', 'an', ' ', 'endless', ' ', 'vista', ' ', 'of', ' ', 'mirrors', '.', '', ' ', 'And', ' ', 'it', ' ', 'was', ' ', 'not', ' ', 'only', ' ', 'the', ' ', 'Mrs', '.', '', ' ', 'Thwings', ' ', 'who', ' ', 'mourned', '.', '', ' ', 'Had', ' ', 'not', ' ', 'the', ' ', 'exquisite', ' ', 'Hermia', ' ', 'Croft', ',', '', ' ', 'at', ' ', 'the', ' ', 'last', ' ', 'Grafton', ' ', 'Gallery', ' ', 'show', ',', '', ' ', 'stopped', ' ', 'me', ' ', 'before', ' ', 'Gisburn', \"'\", 's', ' ', '', '\"', 'Moon-dancers', '\"', '', ' ', 'to', ' ', 'say', ',', '', ' ', 'with', ' ', 'tears', ' ', 'in', ' ', 'her', ' ', 'eyes', ':', '', ' ', '', '\"', 'We', ' ', 'shall', ' ', 'not', ' ', 'look', ' ', 'upon', ' ', 'its', ' ', 'like', ' ', 'again', '\"', '', '?', '', '\\n', '', '\\n', 'Well', '!', '', '--', 'even', ' ', 'through', ' ', 'the', ' ', 'prism', ' ', 'of', ' ', 'Hermia', \"'\", 's', ' ', 'tears', ' ', 'I', ' ', 'felt', ' ', 'able', ' ', 'to', ' ', 'face', ' ', 'the', ' ', 'fact', ' ', 'with', ' ', 'equanimity', '.', '', ' ', 'Poor', ' ', 'Jack', ' ', 'Gisburn', '!', '', ' ', 'The', ' ', 'women', ' ', 'had', ' ', 'made', ' ', 'him', '--', 'it', ' ', 'was', ' ', 'fitting', ' ', 'that', ' ', 'they', ' ', 'should', ' ', 'mourn', ' ', 'him', '.', '', ' ', 'Among', ' ', 'his', ' ', 'own', ' ', 'sex', ' ', 'fewer', ' ', 'regrets', ' ', 'were', ' ', 'heard', ',', '', ' ', 'and', ' ', 'in', ' ', 'his', ' ', 'own', ' ', 'trade', ' ', 'hardly', ' ', 'a', ' ', 'murmur', '.', '', ' ', 'Professional', ' ', 'jealousy', '?', '', ' ', 'Perhaps', '.', '', ' ', 'If', ' ', 'it', ' ', 'were', ',', '', ' ', 'the', ' ', 'honour', ' ', 'of', ' ', 'the', ' ', 'craft', ' ', 'was', ' ', 'vindicated', ' ', 'by', ' ', 'little', ' ', 'Claude', ' ', 'Nutley', ',', '', ' ', 'who', ',', '', ' ', 'in', ' ', 'all', ' ', 'good', ' ', 'faith', ',', '', ' ', 'brought', ' ', 'out', ' ', 'in', ' ', 'the', ' ', 'Burlington', ' ', 'a', ' ', 'very', ' ', 'handsome', ' ', '', '\"', 'obituary', '\"', '', ' ', 'on', ' ', 'Jack', '--', 'one', ' ', 'of', ' ', 'those', ' ', 'showy', ' ', 'articles', ' ', 'stocked', ' ', 'with', ' ', 'random', ' ', 'technicalities', ' ', 'that', ' ', 'I', ' ', 'have', ' ', 'heard', ' ', '', '(', 'I', ' ', 'won', \"'\", 't', ' ', 'say', ' ', 'by', ' ', 'whom', ')', '', ' ', 'compared', ' ', 'to', ' ', 'Gisburn', \"'\", 's', ' ', 'painting', '.', '', ' ', 'And', ' ', 'so', '--', 'his', ' ', 'resolve', ' ', 'being', ' ', 'apparently', ' ', 'irrevocable', '--', 'the', ' ', 'discussion', ' ', 'gradually', ' ', 'died', ' ', 'out', ',', '', ' ', 'and', ',', '', ' ', 'as', ' ', 'Mrs', '.', '', ' ', 'Thwing', ' ', 'had', ' ', 'predicted', ',', '', ' ', 'the', ' ', 'price', ' ', 'of', ' ', '', '\"', 'Gisburns', '\"', '', ' ', 'went', ' ', 'up', '.', '', '\\n', '', '\\n', 'It', ' ', 'was', ' ', 'not', ' ', 'till', ' ', 'three', ' ', 'years', ' ', 'later', ' ', 'that', ',', '', ' ', 'in', ' ', 'the', ' ', 'course', ' ', 'of', ' ', 'a', ' ', 'few', ' ', 'weeks', \"'\", '', ' ', 'idling', ' ', 'on', ' ', 'the', ' ', 'Riviera', ',', '', ' ', 'it', ' ', 'suddenly', ' ', 'occurred', ' ', 'to', ' ', 'me', ' ', 'to', ' ', 'wonder', ' ', 'why', ' ', 'Gisburn', ' ', 'had', ' ', 'given', ' ', 'up', ' ', 'his', ' ', 'painting', '.', '', ' ', 'On', ' ', 'reflection', ',', '', ' ', 'it', ' ', 'really', ' ', 'was', ' ', 'a', ' ', 'tempting', ' ', 'problem', '.', '', ' ', 'To', ' ', 'accuse', ' ', 'his', ' ', 'wife', ' ', 'would', ' ', 'have', ' ', 'been', ' ', 'too', ' ', 'easy', '--', 'his', ' ', 'fair', ' ', 'sitters', ' ', 'had', ' ', 'been', ' ', 'denied', ' ', 'the', ' ', 'solace', ' ', 'of', ' ', 'saying', ' ', 'that', ' ', 'Mrs', '.', '', ' ', 'Gisburn', ' ', 'had', ' ', '', '\"', 'dragged', ' ', 'him', ' ', 'down', '.', '', '\"', '', ' ', 'For', ' ', 'Mrs', '.', '', ' ', 'Gisburn', '--', 'as', ' ', 'such', '--', 'had', ' ', 'not', ' ', 'existed', ' ', 'till', ' ', 'nearly', ' ', 'a', ' ', 'year', ' ', 'after', ' ', 'Jack', \"'\", 's', ' ', 'resolve', ' ', 'had', ' ', 'been', ' ', 'taken', '.', '', ' ', 'It', ' ', 'might', ' ', 'be', ' ', 'that', ' ', 'he', ' ', 'had', ' ', 'married', ' ', 'her', '--', 'since', ' ', 'he', ' ', 'liked', ' ', 'his', ' ', 'ease', '--', 'because', ' ', 'he', ' ', 'didn', \"'\", 't', ' ', 'want', ' ', 'to', ' ', 'go', ' ', 'on', ' ', 'painting', ';', '', ' ', 'but', ' ', 'it', ' ', 'would', ' ', 'have', ' ', 'been', ' ', 'hard', ' ', 'to', ' ', 'prove', ' ', 'that', ' ', 'he', ' ', 'had', ' ', 'given', ' ', 'up', ' ', 'his', ' ', 'painting', ' ', 'because', ' ', 'he', ' ', 'had', ' ', 'married', ' ', 'her', '.', '', '\\n', '', '\\n', 'Of', ' ', 'course', ',', '', ' ', 'if', ' ', 'she', ' ', 'had', ' ', 'not', ' ', 'dragged', ' ', 'him', ' ', 'down', ',', '', ' ', 'she', ' ', 'had', ' ', 'equally', ',', '', ' ', 'as', ' ', 'Miss', ' ', 'Croft', ' ', 'contended', ',', '', ' ', 'failed', ' ', 'to', ' ', '', '\"', 'lift', ' ', 'him', ' ', 'up', '\"', '', '--', 'she', ' ', 'had', ' ', 'not', ' ', 'led', ' ', 'him', ' ', 'back', ' ', 'to', ' ', 'the', ' ', 'easel', '.', '', ' ', 'To', ' ', 'put', ' ', 'the', ' ', 'brush', ' ', 'into', ' ', 'his', ' ', 'hand', ' ', 'again', '--', 'what', ' ', 'a', ' ', 'vocation', ' ', 'for', ' ', 'a', ' ', 'wife', '!', '', ' ', 'But', ' ', 'Mrs', '.', '', ' ', 'Gisburn', ' ', 'appeared', ' ', 'to', ' ', 'have', ' ', 'disdained', ' ', 'it', '--', 'and', ' ', 'I', ' ', 'felt', ' ', 'it', ' ', 'might', ' ', 'be', ' ', 'interesting', ' ', 'to', ' ', 'find', ' ', 'out', ' ', 'why', '.', '', '\\n', '', '\\n', 'The', ' ', 'desultory', ' ', 'life', ' ', 'of', ' ', 'the', ' ', 'Riviera', ' ', 'lends', ' ', 'itself', ' ', 'to', ' ', 'such', ' ', 'purely', ' ', 'academic', ' ', 'speculations', ';', '', ' ', 'and', ' ', 'having', ',', '', ' ', 'on', ' ', 'my', ' ', 'way', ' ', 'to', ' ', 'Monte', ' ', 'Carlo', ',', '', ' ', 'caught', ' ', 'a', ' ', 'glimpse', ' ', 'of', ' ', 'Jack', \"'\", 's', ' ', 'balustraded', ' ', 'terraces', ' ', 'between', ' ', 'the', ' ', 'pines', ',', '', ' ', 'I', ' ', 'had', ' ', 'myself', ' ', 'borne', ' ', 'thither', ' ', 'the', ' ', 'next', ' ', 'day', '.', '', '\\n', '', '\\n', 'I', ' ', 'found', ' ', 'the', ' ', 'couple', ' ', 'at', ' ', 'tea', ' ', 'beneath', ' ', 'their', ' ', 'palm-trees', ';', '', ' ', 'and', ' ', 'Mrs', '.', '', ' ', 'Gisburn', \"'\", 's', ' ', 'welcome', ' ', 'was', ' ', 'so', ' ', 'genial', ' ', 'that', ',', '', ' ', 'in', ' ', 'the', ' ', 'ensuing', ' ', 'weeks', ',', '', ' ', 'I', ' ', 'claimed', ' ', 'it', ' ', 'frequently', '.', '', ' ', 'It', ' ', 'was', ' ', 'not', ' ', 'that', ' ', 'my', ' ', 'hostess', ' ', 'was', ' ', '', '\"', 'interesting', '\"', '', ':', '', ' ', 'on', ' ', 'that', ' ', 'point', ' ', 'I', ' ', 'could', ' ', 'have', ' ', 'given', ' ', 'Miss', ' ', 'Croft', ' ', 'the', ' ', 'fullest', ' ', 'reassurance', '.', '', ' ', 'It', ' ', 'was', ' ', 'just', ' ', 'because', ' ', 'she', ' ', 'was', ' ', '', '_', 'not', '_', '', ' ', 'interesting', '--', 'if', ' ', 'I', ' ', 'may', ' ', 'be', ' ', 'pardoned', ' ', 'the', ' ', 'bull', '--', 'that', ' ', 'I', ' ', 'found', ' ', 'her', ' ', 'so', '.', '', ' ', 'For', ' ', 'Jack', ',', '', ' ', 'all', ' ', 'his', ' ', 'life', ',', '', ' ', 'had', ' ', 'been', ' ', 'surrounded', ' ', 'by', ' ', 'interesting', ' ', 'women', ':', '', ' ', 'they', ' ', 'had', ' ', 'fostered', ' ', 'his', ' ', 'art', ',', '', ' ', 'it', ' ', 'had', ' ', 'been', ' ', 'reared', ' ', 'in', ' ', 'the', ' ', 'hot-house', ' ', 'of', ' ', 'their', ' ', 'adulation', '.', '', ' ', 'And', ' ', 'it', ' ', 'was', ' ', 'therefore', ' ', 'instructive', ' ', 'to', ' ', 'note', ' ', 'what', ' ', 'effect', ' ', 'the', ' ', '', '\"', 'deadening', ' ', 'atmosphere', ' ', 'of', ' ', 'mediocrity', '\"', '', ' ', '', '(', 'I', ' ', 'quote', ' ', 'Miss', ' ', 'Croft', ')', '', ' ', 'was', ' ', 'having', ' ', 'on', ' ', 'him', '.', '', '\\n', '', '\\n', 'I', ' ', 'have', ' ', 'mentioned', ' ', 'that', ' ', 'Mrs', '.', '', ' ', 'Gisburn', ' ', 'was', ' ', 'rich', ';', '', ' ', 'and', ' ', 'it', ' ', 'was', ' ', 'immediately', ' ', 'perceptible', ' ', 'that', ' ', 'her', ' ', 'husband', ' ', 'was', ' ', 'extracting', ' ', 'from', ' ', 'this', ' ', 'circumstance', ' ', 'a', ' ', 'delicate', ' ', 'but', ' ', 'substantial', ' ', 'satisfaction', '.', '', ' ', 'It', ' ', 'is', ',', '', ' ', 'as', ' ', 'a', ' ', 'rule', ',', '', ' ', 'the', ' ', 'people', ' ', 'who', ' ', 'scorn', ' ', 'money', ' ', 'who', ' ', 'get', ' ', 'most', ' ', 'out', ' ', 'of', ' ', 'it', ';', '', ' ', 'and', ' ', 'Jack', \"'\", 's', ' ', 'elegant', ' ', 'disdain', ' ', 'of', ' ', 'his', ' ', 'wife', \"'\", 's', ' ', 'big', ' ', 'balance', ' ', 'enabled', ' ', 'him', ',', '', ' ', 'with', ' ', 'an', ' ', 'appearance', ' ', 'of', ' ', 'perfect', ' ', 'good-breeding', ',', '', ' ', 'to', ' ', 'transmute', ' ', 'it', ' ', 'into', ' ', 'objects', ' ', 'of', ' ', 'art', ' ', 'and', ' ', 'luxury', '.', '', ' ', 'To', ' ', 'the', ' ', 'latter', ',', '', ' ', 'I', ' ', 'must', ' ', 'add', ',', '', ' ', 'he', ' ', 'remained', ' ', 'relatively', ' ', 'indifferent', ';', '', ' ', 'but', ' ', 'he', ' ', 'was', ' ', 'buying', ' ', 'Renaissance', ' ', 'bronzes', ' ', 'and', ' ', 'eighteenth-century', ' ', 'pictures', ' ', 'with', ' ', 'a', ' ', 'discrimination', ' ', 'that', ' ', 'bespoke', ' ', 'the', ' ', 'amplest', ' ', 'resources', '.', '', '\\n', '', '\\n', '', '\"', 'Money', \"'\", 's', ' ', 'only', ' ', 'excuse', ' ', 'is', ' ', 'to', ' ', 'put', ' ', 'beauty', ' ', 'into', ' ', 'circulation', ',', '', '\"', '', ' ', 'was', ' ', 'one', ' ', 'of', ' ', 'the', ' ', 'axioms', ' ', 'he', ' ', 'laid', ' ', 'down', ' ', 'across', ' ', 'the', ' ', 'Sevres', ' ', 'and', ' ', 'silver', ' ', 'of', ' ', 'an', ' ', 'exquisitely', ' ', 'appointed', ' ', 'luncheon-table', ',', '', ' ', 'when', ',', '', ' ', 'on', ' ', 'a', ' ', 'later', ' ', 'day', ',', '', ' ', 'I', ' ', 'had', ' ', 'again', ' ', 'run', ' ', 'over', ' ', 'from', ' ', 'Monte', ' ', 'Carlo', ';', '', ' ', 'and', ' ', 'Mrs', '.', '', ' ', 'Gisburn', ',', '', ' ', 'beaming', ' ', 'on', ' ', 'him', ',', '', ' ', 'added', ' ', 'for', ' ', 'my', ' ', 'enlightenment', ':', '', ' ', '', '\"', 'Jack', ' ', 'is', ' ', 'so', ' ', 'morbidly', ' ', 'sensitive', ' ', 'to', ' ', 'every', ' ', 'form', ' ', 'of', ' ', 'beauty', '.', '', '\"', '', '\\n', '', '\\n', 'Poor', ' ', 'Jack', '!', '', ' ', 'It', ' ', 'had', ' ', 'always', ' ', 'been', ' ', 'his', ' ', 'fate', ' ', 'to', ' ', 'have', ' ', 'women', ' ', 'say', ' ', 'such', ' ', 'things', ' ', 'of', ' ', 'him', ':', '', ' ', 'the', ' ', 'fact', ' ', 'should', ' ', 'be', ' ', 'set', ' ', 'down', ' ', 'in', ' ', 'extenuation', '.', '', ' ', 'What', ' ', 'struck', ' ', 'me', ' ', 'now', ' ', 'was', ' ', 'that', ',', '', ' ', 'for', ' ', 'the', ' ', 'first', ' ', 'time', ',', '', ' ', 'he', ' ', 'resented', ' ', 'the', ' ', 'tone', '.', '', ' ', 'I', ' ', 'had', ' ', 'seen', ' ', 'him', ',', '', ' ', 'so', ' ', 'often', ',', '', ' ', 'basking', ' ', 'under', ' ', 'similar', ' ', 'tributes', '--', 'was', ' ', 'it', ' ', 'the', ' ', 'conjugal', ' ', 'note', ' ', 'that', ' ', 'robbed', ' ', 'them', ' ', 'of', ' ', 'their', ' ', 'savour', '?', '', ' ', 'No', '--', 'for', ',', '', ' ', 'oddly', ' ', 'enough', ',', '', ' ', 'it', ' ', 'became', ' ', 'apparent', ' ', 'that', ' ', 'he', ' ', 'was', ' ', 'fond', ' ', 'of', ' ', 'Mrs', '.', '', ' ', 'Gisburn', '--', 'fond', ' ', 'enough', ' ', 'not', ' ', 'to', ' ', 'see', ' ', 'her', ' ', 'absurdity', '.', '', ' ', 'It', ' ', 'was', ' ', 'his', ' ', 'own', ' ', 'absurdity', ' ', 'he', ' ', 'seemed', ' ', 'to', ' ', 'be', ' ', 'wincing', ' ', 'under', '--', 'his', ' ', 'own', ' ', 'attitude', ' ', 'as', ' ', 'an', ' ', 'object', ' ', 'for', ' ', 'garlands', ' ', 'and', ' ', 'incense', '.', '', '\\n', '', '\\n', '', '\"', 'My', ' ', 'dear', ',', '', ' ', 'since', ' ', 'I', \"'\", 've', ' ', 'chucked', ' ', 'painting', ' ', 'people', ' ', 'don', \"'\", 't', ' ', 'say', ' ', 'that', ' ', 'stuff', ' ', 'about', ' ', 'me', '--', 'they', ' ', 'say', ' ', 'it', ' ', 'about', ' ', 'Victor', ' ', 'Grindle', ',', '', '\"', '', ' ', 'was', ' ', 'his', ' ', 'only', ' ', 'protest', ',', '', ' ', 'as', ' ', 'he', ' ', 'rose', ' ', 'from', ' ', 'the', ' ', 'table', ' ', 'and', ' ', 'strolled', ' ', 'out', ' ', 'onto', ' ', 'the', ' ', 'sunlit', ' ', 'terrace', '.', '', '\\n', '', '\\n', 'I', ' ', 'glanced', ' ', 'after', ' ', 'him', ',', '', ' ', 'struck', ' ', 'by', ' ', 'his', ' ', 'last', ' ', 'word', '.', '', ' ', 'Victor', ' ', 'Grindle', ' ', 'was', ',', '', ' ', 'in', ' ', 'fact', ',', '', ' ', 'becoming', ' ', 'the', ' ', 'man', ' ', 'of', ' ', 'the', ' ', 'moment', '--', 'as', ' ', 'Jack', ' ', 'himself', ',', '', ' ', 'one', ' ', 'might', ' ', 'put', ' ', 'it', ',', '', ' ', 'had', ' ', 'been', ' ', 'the', ' ', 'man', ' ', 'of', ' ', 'the', ' ', 'hour', '.', '', ' ', 'The', ' ', 'younger', ' ', 'artist', ' ', 'was', ' ', 'said', ' ', 'to', ' ', 'have', ' ', 'formed', ' ', 'himself', ' ', 'at', ' ', 'my', ' ', 'friend', \"'\", 's', ' ', 'feet', ',', '', ' ', 'and', ' ', 'I', ' ', 'wondered', ' ', 'if', ' ', 'a', ' ', 'tinge', ' ', 'of', ' ', 'jealousy', ' ', 'underlay', ' ', 'the', ' ', 'latter', \"'\", 's', ' ', 'mysterious', ' ', 'abdication', '.', '', ' ', 'But', ' ', 'no', '--', 'for', ' ', 'it', ' ', 'was', ' ', 'not', ' ', 'till', ' ', 'after', ' ', 'that', ' ', 'event', ' ', 'that', ' ', 'the', ' ', '', '_', 'rose', ' ', 'Dubarry', '_', '', ' ', 'drawing-rooms', ' ', 'had', ' ', 'begun', ' ', 'to', ' ', 'display', ' ', 'their', ' ', '', '\"', 'Grindles', '.', '', '\"', '', '\\n', '', '\\n', 'I', ' ', 'turned', ' ', 'to', ' ', 'Mrs', '.', '', ' ', 'Gisburn', ',', '', ' ', 'who', ' ', 'had', ' ', 'lingered', ' ', 'to', ' ', 'give', ' ', 'a', ' ', 'lump', ' ', 'of', ' ', 'sugar', ' ', 'to', ' ', 'her', ' ', 'spaniel', ' ', 'in', ' ', 'the', ' ', 'dining-room', '.', '', '\\n', '', '\\n', '', '\"', 'Why', ' ', '', '_', 'has', '_', '', ' ', 'he', ' ', 'chucked', ' ', 'painting', '?', '', '\"', '', ' ', 'I', ' ', 'asked', ' ', 'abruptly', '.', '', '\\n', '', '\\n', 'She', ' ', 'raised', ' ', 'her', ' ', 'eyebrows', ' ', 'with', ' ', 'a', ' ', 'hint', ' ', 'of', ' ', 'good-humoured', ' ', 'surprise', '.', '', '\\n', '', '\\n', '', '\"', 'Oh', ',', '', ' ', 'he', ' ', 'doesn', \"'\", 't', ' ', '', '_', 'have', '_', '', ' ', 'to', ' ', 'now', ',', '', ' ', 'you', ' ', 'know', ';', '', ' ', 'and', ' ', 'I', ' ', 'want', ' ', 'him', ' ', 'to', ' ', 'enjoy', ' ', 'himself', ',', '', '\"', '', ' ', 'she', ' ', 'said', ' ', 'quite', ' ', 'simply', '.', '', '\\n', '', '\\n', 'I', ' ', 'looked', ' ', 'about', ' ', 'the', ' ', 'spacious', ' ', 'white-panelled', ' ', 'room', ',', '', ' ', 'with', ' ', 'its', ' ', '', '_', 'famille-verte', '_', '', ' ', 'vases', ' ', 'repeating', ' ', 'the', ' ', 'tones', ' ', 'of', ' ', 'the', ' ', 'pale', ' ', 'damask', ' ', 'curtains', ',', '', ' ', 'and', ' ', 'its', ' ', 'eighteenth-century', ' ', 'pastels', ' ', 'in', ' ', 'delicate', ' ', 'faded', ' ', 'frames', '.', '', '\\n', '', '\\n', '', '\"', 'Has', ' ', 'he', ' ', 'chucked', ' ', 'his', ' ', 'pictures', ' ', 'too', '?', '', ' ', 'I', ' ', 'haven', \"'\", 't', ' ', 'seen', ' ', 'a', ' ', 'single', ' ', 'one', ' ', 'in', ' ', 'the', ' ', 'house', '.', '', '\"', '', '\\n', '', '\\n', 'A', ' ', 'slight', ' ', 'shade', ' ', 'of', ' ', 'constraint', ' ', 'crossed', ' ', 'Mrs', '.', '', ' ', 'Gisburn', \"'\", 's', ' ', 'open', ' ', 'countenance', '.', '', ' ', '', '\"', 'It', \"'\", 's', ' ', 'his', ' ', 'ridiculous', ' ', 'modesty', ',', '', ' ', 'you', ' ', 'know', '.', '', ' ', 'He', ' ', 'says', ' ', 'they', \"'\", 're', ' ', 'not', ' ', 'fit', ' ', 'to', ' ', 'have', ' ', 'about', ';', '', ' ', 'he', \"'\", 's', ' ', 'sent', ' ', 'them', ' ', 'all', ' ', 'away', ' ', 'except', ' ', 'one', '--', 'my', ' ', 'portrait', '--', 'and', ' ', 'that', ' ', 'I', ' ', 'have', ' ', 'to', ' ', 'keep', ' ', 'upstairs', '.', '', '\"', '', '\\n', '', '\\n', 'His', ' ', 'ridiculous', ' ', 'modesty', '--', 'Jack', \"'\", 's', ' ', 'modesty', ' ', 'about', ' ', 'his', ' ', 'pictures', '?', '', ' ', 'My', ' ', 'curiosity', ' ', 'was', ' ', 'growing', ' ', 'like', ' ', 'the', ' ', 'bean-stalk', '.', '', ' ', 'I', ' ', 'said', ' ', 'persuasively', ' ', 'to', ' ', 'my', ' ', 'hostess', ':', '', ' ', '', '\"', 'I', ' ', 'must', ' ', 'really', ' ', 'see', ' ', 'your', ' ', 'portrait', ',', '', ' ', 'you', ' ', 'know', '.', '', '\"', '', '\\n', '', '\\n', 'She', ' ', 'glanced', ' ', 'out', ' ', 'almost', ' ', 'timorously', ' ', 'at', ' ', 'the', ' ', 'terrace', ' ', 'where', ' ', 'her', ' ', 'husband', ',', '', ' ', 'lounging', ' ', 'in', ' ', 'a', ' ', 'hooded', ' ', 'chair', ',', '', ' ', 'had', ' ', 'lit', ' ', 'a', ' ', 'cigar', ' ', 'and', ' ', 'drawn', ' ', 'the', ' ', 'Russian', ' ', 'deerhound', \"'\", 's', ' ', 'head', ' ', 'between', ' ', 'his', ' ', 'knees', '.', '', '\\n', '', '\\n', '', '\"', 'Well', ',', '', ' ', 'come', ' ', 'while', ' ', 'he', \"'\", 's', ' ', 'not', ' ', 'looking', ',', '', '\"', '', ' ', 'she', ' ', 'said', ',', '', ' ', 'with', ' ', 'a', ' ', 'laugh', ' ', 'that', ' ', 'tried', ' ', 'to', ' ', 'hide', ' ', 'her', ' ', 'nervousness', ';', '', ' ', 'and', ' ', 'I', ' ', 'followed', ' ', 'her', ' ', 'between', ' ', 'the', ' ', 'marble', ' ', 'Emperors', ' ', 'of', ' ', 'the', ' ', 'hall', ',', '', ' ', 'and', ' ', 'up', ' ', 'the', ' ', 'wide', ' ', 'stairs', ' ', 'with', ' ', 'terra-cotta', ' ', 'nymphs', ' ', 'poised', ' ', 'among', ' ', 'flowers', ' ', 'at', ' ', 'each', ' ', 'landing', '.', '', '\\n', '', '\\n', 'In', ' ', 'the', ' ', 'dimmest', ' ', 'corner', ' ', 'of', ' ', 'her', ' ', 'boudoir', ',', '', ' ', 'amid', ' ', 'a', ' ', 'profusion', ' ', 'of', ' ', 'delicate', ' ', 'and', ' ', 'distinguished', ' ', 'objects', ',', '', ' ', 'hung', ' ', 'one', ' ', 'of', ' ', 'the', ' ', 'familiar', ' ', 'oval', ' ', 'canvases', ',', '', ' ', 'in', ' ', 'the', ' ', 'inevitable', ' ', 'garlanded', ' ', 'frame', '.', '', ' ', 'The', ' ', 'mere', ' ', 'outline', ' ', 'of', ' ', 'the', ' ', 'frame', ' ', 'called', ' ', 'up', ' ', 'all', ' ', 'Gisburn', \"'\", 's', ' ', 'past', '!', '', '\\n', '', '\\n', 'Mrs', '.', '', ' ', 'Gisburn', ' ', 'drew', ' ', 'back', ' ', 'the', ' ', 'window-curtains', ',', '', ' ', 'moved', ' ', 'aside', ' ', 'a', ' ', '', '_', 'jardiniere', '_', '', ' ', 'full', ' ', 'of', ' ', 'pink', ' ', 'azaleas', ',', '', ' ', 'pushed', ' ', 'an', ' ', 'arm-chair', ' ', 'away', ',', '', ' ', 'and', ' ', 'said', ':', '', ' ', '', '\"', 'If', ' ', 'you', ' ', 'stand', ' ', 'here', ' ', 'you', ' ', 'can', ' ', 'just', ' ', 'manage', ' ', 'to', ' ', 'see', ' ', 'it', '.', '', ' ', 'I', ' ', 'had', ' ', 'it', ' ', 'over', ' ', 'the', ' ', 'mantel-piece', ',', '', ' ', 'but', ' ', 'he', ' ', 'wouldn', \"'\", 't', ' ', 'let', ' ', 'it', ' ', 'stay', '.', '', '\"', '', '\\n', '', '\\n', 'Yes', '--', 'I', ' ', 'could', ' ', 'just', ' ', 'manage', ' ', 'to', ' ', 'see', ' ', 'it', '--', 'the', ' ', 'first', ' ', 'portrait', ' ', 'of', ' ', 'Jack', \"'\", 's', ' ', 'I', ' ', 'had', ' ', 'ever', ' ', 'had', ' ', 'to', ' ', 'strain', ' ', 'my', ' ', 'eyes', ' ', 'over', '!', '', ' ', 'Usually', ' ', 'they', ' ', 'had', ' ', 'the', ' ', 'place', ' ', 'of', ' ', 'honour', '--', 'say', ' ', 'the', ' ', 'central', ' ', 'panel', ' ', 'in', ' ', 'a', ' ', 'pale', ' ', 'yellow', ' ', 'or', ' ', '', '_', 'rose', ' ', 'Dubarry', '_', '', ' ', 'drawing-room', ',', '', ' ', 'or', ' ', 'a', ' ', 'monumental', ' ', 'easel', ' ', 'placed', ' ', 'so', ' ', 'that', ' ', 'it', ' ', 'took', ' ', 'the', ' ', 'light', ' ', 'through', ' ', 'curtains', ' ', 'of', ' ', 'old', ' ', 'Venetian', ' ', 'point', '.', '', ' ', 'The', ' ', 'more', ' ', 'modest', ' ', 'place', ' ', 'became', ' ', 'the', ' ', 'picture', ' ', 'better', ';', '', ' ', 'yet', ',', '', ' ', 'as', ' ', 'my', ' ', 'eyes', ' ', 'grew', ' ', 'accustomed', ' ', 'to', ' ', 'the', ' ', 'half-light', ',', '', ' ', 'all', ' ', 'the', ' ', 'characteristic', ' ', 'qualities', ' ', 'came', ' ', 'out', '--', 'all', ' ', 'the', ' ', 'hesitations', ' ', 'disguised', ' ', 'as', ' ', 'audacities', ',', '', ' ', 'the', ' ', 'tricks', ' ', 'of', ' ', 'prestidigitation', ' ', 'by', ' ', 'which', ',', '', ' ', 'with', ' ', 'such', ' ', 'consummate', ' ', 'skill', ',', '', ' ', 'he', ' ', 'managed', ' ', 'to', ' ', 'divert', ' ', 'attention', ' ', 'from', ' ', 'the', ' ', 'real', ' ', 'business', ' ', 'of', ' ', 'the', ' ', 'picture', ' ', 'to', ' ', 'some', ' ', 'pretty', ' ', 'irrelevance', ' ', 'of', ' ', 'detail', '.', '', ' ', 'Mrs', '.', '', ' ', 'Gisburn', ',', '', ' ', 'presenting', ' ', 'a', ' ', 'neutral', ' ', 'surface', ' ', 'to', ' ', 'work', ' ', 'on', '--', 'forming', ',', '', ' ', 'as', ' ', 'it', ' ', 'were', ',', '', ' ', 'so', ' ', 'inevitably', ' ', 'the', ' ', 'background', ' ', 'of', ' ', 'her', ' ', 'own', ' ', 'picture', '--', 'had', ' ', 'lent', ' ', 'herself', ' ', 'in', ' ', 'an', ' ', 'unusual', ' ', 'degree', ' ', 'to', ' ', 'the', ' ', 'display', ' ', 'of', ' ', 'this', ' ', 'false', ' ', 'virtuosity', '.', '', ' ', 'The', ' ', 'picture', ' ', 'was', ' ', 'one', ' ', 'of', ' ', 'Jack', \"'\", 's', ' ', '', '\"', 'strongest', ',', '', '\"', '', ' ', 'as', ' ', 'his', ' ', 'admirers', ' ', 'would', ' ', 'have', ' ', 'put', ' ', 'it', '--', 'it', ' ', 'represented', ',', '', ' ', 'on', ' ', 'his', ' ', 'part', ',', '', ' ', 'a', ' ', 'swelling', ' ', 'of', ' ', 'muscles', ',', '', ' ', 'a', ' ', 'congesting', ' ', 'of', ' ', 'veins', ',', '', ' ', 'a', ' ', 'balancing', ',', '', ' ', 'straddling', ' ', 'and', ' ', 'straining', ',', '', ' ', 'that', ' ', 'reminded', ' ', 'one', ' ', 'of', ' ', 'the', ' ', 'circus-clown', \"'\", 's', ' ', 'ironic', ' ', 'efforts', ' ', 'to', ' ', 'lift', ' ', 'a', ' ', 'feather', '.', '', ' ', 'It', ' ', 'met', ',', '', ' ', 'in', ' ', 'short', ',', '', ' ', 'at', ' ', 'every', ' ', 'point', ' ', 'the', ' ', 'demand', ' ', 'of', ' ', 'lovely', ' ', 'woman', ' ', 'to', ' ', 'be', ' ', 'painted', ' ', '', '\"', 'strongly', '\"', '', ' ', 'because', ' ', 'she', ' ', 'was', ' ', 'tired', ' ', 'of', ' ', 'being', ' ', 'painted', ' ', '', '\"', 'sweetly', '\"', '', '--', 'and', ' ', 'yet', ' ', 'not', ' ', 'to', ' ', 'lose', ' ', 'an', ' ', 'atom', ' ', 'of', ' ', 'the', ' ', 'sweetness', '.', '', '\\n', '', '\\n', '', '\"', 'It', \"'\", 's', ' ', 'the', ' ', 'last', ' ', 'he', ' ', 'painted', ',', '', ' ', 'you', ' ', 'know', ',', '', '\"', '', ' ', 'Mrs', '.', '', ' ', 'Gisburn', ' ', 'said', ' ', 'with', ' ', 'pardonable', ' ', 'pride', '.', '', ' ', '', '\"', 'The', ' ', 'last', ' ', 'but', ' ', 'one', ',', '', '\"', '', ' ', 'she', ' ', 'corrected', ' ', 'herself', '--', '', '\"', 'but', ' ', 'the', ' ', 'other', ' ', 'doesn', \"'\", 't', ' ', 'count', ',', '', ' ', 'because', ' ', 'he', ' ', 'destroyed', ' ', 'it', '.', '', '\"', '', '\\n', '', '\\n', '', '\"', 'Destroyed', ' ', 'it', '?', '', '\"', '', ' ', 'I', ' ', 'was', ' ', 'about', ' ', 'to', ' ', 'follow', ' ', 'up', ' ', 'this', ' ', 'clue', ' ', 'when', ' ', 'I', ' ', 'heard', ' ', 'a', ' ', 'footstep', ' ', 'and', ' ', 'saw', ' ', 'Jack', ' ', 'himself', ' ', 'on', ' ', 'the', ' ', 'threshold', '.', '', '\\n', '', '\\n', 'As', ' ', 'he', ' ', 'stood', ' ', 'there', ',', '', ' ', 'his', ' ', 'hands', ' ', 'in', ' ', 'the', ' ', 'pockets', ' ', 'of', ' ', 'his', ' ', 'velveteen', ' ', 'coat', ',', '', ' ', 'the', ' ', 'thin', ' ', 'brown', ' ', 'waves', ' ', 'of', ' ', 'hair', ' ', 'pushed', ' ', 'back', ' ', 'from', ' ', 'his', ' ', 'white', ' ', 'forehead', ',', '', ' ', 'his', ' ', 'lean', ' ', 'sunburnt', ' ', 'cheeks', ' ', 'furrowed', ' ', 'by', ' ', 'a', ' ', 'smile', ' ', 'that', ' ', 'lifted', ' ', 'the', ' ', 'tips', ' ', 'of', ' ', 'a', ' ', 'self-confident', ' ', 'moustache', ',', '', ' ', 'I', ' ', 'felt', ' ', 'to', ' ', 'what', ' ', 'a', ' ', 'degree', ' ', 'he', ' ', 'had', ' ', 'the', ' ', 'same', ' ', 'quality', ' ', 'as', ' ', 'his', ' ', 'pictures', '--', 'the', ' ', 'quality', ' ', 'of', ' ', 'looking', ' ', 'cleverer', ' ', 'than', ' ', 'he', ' ', 'was', '.', '', '\\n', '', '\\n', 'His', ' ', 'wife', ' ', 'glanced', ' ', 'at', ' ', 'him', ' ', 'deprecatingly', ',', '', ' ', 'but', ' ', 'his', ' ', 'eyes', ' ', 'travelled', ' ', 'past', ' ', 'her', ' ', 'to', ' ', 'the', ' ', 'portrait', '.', '', '\\n', '', '\\n', '', '\"', 'Mr', '.', '', ' ', 'Rickham', ' ', 'wanted', ' ', 'to', ' ', 'see', ' ', 'it', ',', '', '\"', '', ' ', 'she', ' ', 'began', ',', '', ' ', 'as', ' ', 'if', ' ', 'excusing', ' ', 'herself', '.', '', ' ', 'He', ' ', 'shrugged', ' ', 'his', ' ', 'shoulders', ',', '', ' ', 'still', ' ', 'smiling', '.', '', '\\n', '', '\\n', '', '\"', 'Oh', ',', '', ' ', 'Rickham', ' ', 'found', ' ', 'me', ' ', 'out', ' ', 'long', ' ', 'ago', ',', '', '\"', '', ' ', 'he', ' ', 'said', ' ', 'lightly', ';', '', ' ', 'then', ',', '', ' ', 'passing', ' ', 'his', ' ', 'arm', ' ', 'through', ' ', 'mine', ':', '', ' ', '', '\"', 'Come', ' ', 'and', ' ', 'see', ' ', 'the', ' ', 'rest', ' ', 'of', ' ', 'the', ' ', 'house', '.', '', '\"', '', '\\n', '', '\\n', 'He', ' ', 'showed', ' ', 'it', ' ', 'to', ' ', 'me', ' ', 'with', ' ', 'a', ' ', 'kind', ' ', 'of', ' ', 'naive', ' ', 'suburban', ' ', 'pride', ':', '', ' ', 'the', ' ', 'bath-rooms', ',', '', ' ', 'the', ' ', 'speaking-tubes', ',', '', ' ', 'the', ' ', 'dress-closets', ',', '', ' ', 'the', ' ', 'trouser-presses', '--', 'all', ' ', 'the', ' ', 'complex', ' ', 'simplifications', ' ', 'of', ' ', 'the', ' ', 'millionaire', \"'\", 's', ' ', 'domestic', ' ', 'economy', '.', '', ' ', 'And', ' ', 'whenever', ' ', 'my', ' ', 'wonder', ' ', 'paid', ' ', 'the', ' ', 'expected', ' ', 'tribute', ' ', 'he', ' ', 'said', ',', '', ' ', 'throwing', ' ', 'out', ' ', 'his', ' ', 'chest', ' ', 'a', ' ', 'little', ':', '', ' ', '', '\"', 'Yes', ',', '', ' ', 'I', ' ', 'really', ' ', 'don', \"'\", 't', ' ', 'see', ' ', 'how', ' ', 'people', ' ', 'manage', ' ', 'to', ' ', 'live', ' ', 'without', ' ', 'that', '.', '', '\"', '', '\\n', '', '\\n', 'Well', '--', 'it', ' ', 'was', ' ', 'just', ' ', 'the', ' ', 'end', ' ', 'one', ' ', 'might', ' ', 'have', ' ', 'foreseen', ' ', 'for', ' ', 'him', '.', '', ' ', 'Only', ' ', 'he', ' ', 'was', ',', '', ' ', 'through', ' ', 'it', ' ', 'all', ' ', 'and', ' ', 'in', ' ', 'spite', ' ', 'of', ' ', 'it', ' ', 'all', '--', 'as', ' ', 'he', ' ', 'had', ' ', 'been', ' ', 'through', ',', '', ' ', 'and', ' ', 'in', ' ', 'spite', ' ', 'of', ',', '', ' ', 'his', ' ', 'pictures', '--', 'so', ' ', 'handsome', ',', '', ' ', 'so', ' ', 'charming', ',', '', ' ', 'so', ' ', 'disarming', ',', '', ' ', 'that', ' ', 'one', ' ', 'longed', ' ', 'to', ' ', 'cry', ' ', 'out', ':', '', ' ', '', '\"', 'Be', ' ', 'dissatisfied', ' ', 'with', ' ', 'your', ' ', 'leisure', '!', '', '\"', '', ' ', 'as', ' ', 'once', ' ', 'one', ' ', 'had', ' ', 'longed', ' ', 'to', ' ', 'say', ':', '', ' ', '', '\"', 'Be', ' ', 'dissatisfied', ' ', 'with', ' ', 'your', ' ', 'work', '!', '', '\"', '', '\\n', '', '\\n', 'But', ',', '', ' ', 'with', ' ', 'the', ' ', 'cry', ' ', 'on', ' ', 'my', ' ', 'lips', ',', '', ' ', 'my', ' ', 'diagnosis', ' ', 'suffered', ' ', 'an', ' ', 'unexpected', ' ', 'check', '.', '', '\\n', '', '\\n', '', '\"', 'This', ' ', 'is', ' ', 'my', ' ', 'own', ' ', 'lair', ',', '', '\"', '', ' ', 'he', ' ', 'said', ',', '', ' ', 'leading', ' ', 'me', ' ', 'into', ' ', 'a', ' ', 'dark', ' ', 'plain', ' ', 'room', ' ', 'at', ' ', 'the', ' ', 'end', ' ', 'of', ' ', 'the', ' ', 'florid', ' ', 'vista', '.', '', ' ', 'It', ' ', 'was', ' ', 'square', ' ', 'and', ' ', 'brown', ' ', 'and', ' ', 'leathery', ':', '', ' ', 'no', ' ', '', '\"', 'effects', '\"', '', ';', '', ' ', 'no', ' ', 'bric-a-brac', ',', '', ' ', 'none', ' ', 'of', ' ', 'the', ' ', 'air', ' ', 'of', ' ', 'posing', ' ', 'for', ' ', 'reproduction', ' ', 'in', ' ', 'a', ' ', 'picture', ' ', 'weekly', '--', 'above', ' ', 'all', ',', '', ' ', 'no', ' ', 'least', ' ', 'sign', ' ', 'of', ' ', 'ever', ' ', 'having', ' ', 'been', ' ', 'used', ' ', 'as', ' ', 'a', ' ', 'studio', '.', '', '\\n', '', '\\n', 'The', ' ', 'fact', ' ', 'brought', ' ', 'home', ' ', 'to', ' ', 'me', ' ', 'the', ' ', 'absolute', ' ', 'finality', ' ', 'of', ' ', 'Jack', \"'\", 's', ' ', 'break', ' ', 'with', ' ', 'his', ' ', 'old', ' ', 'life', '.', '', '\\n', '', '\\n', '', '\"', 'Don', \"'\", 't', ' ', 'you', ' ', 'ever', ' ', 'dabble', ' ', 'with', ' ', 'paint', ' ', 'any', ' ', 'more', '?', '', '\"', '', ' ', 'I', ' ', 'asked', ',', '', ' ', 'still', ' ', 'looking', ' ', 'about', ' ', 'for', ' ', 'a', ' ', 'trace', ' ', 'of', ' ', 'such', ' ', 'activity', '.', '', '\\n', '', '\\n', '', '\"', 'Never', ',', '', '\"', '', ' ', 'he', ' ', 'said', ' ', 'briefly', '.', '', '\\n', '', '\\n', '', '\"', 'Or', ' ', 'water-colour', '--', 'or', ' ', 'etching', '?', '', '\"', '', '\\n', '', '\\n', 'His', ' ', 'confident', ' ', 'eyes', ' ', 'grew', ' ', 'dim', ',', '', ' ', 'and', ' ', 'his', ' ', 'cheeks', ' ', 'paled', ' ', 'a', ' ', 'little', ' ', 'under', ' ', 'their', ' ', 'handsome', ' ', 'sunburn', '.', '', '\\n', '', '\\n', '', '\"', 'Never', ' ', 'think', ' ', 'of', ' ', 'it', ',', '', ' ', 'my', ' ', 'dear', ' ', 'fellow', '--', 'any', ' ', 'more', ' ', 'than', ' ', 'if', ' ', 'I', \"'\", 'd', ' ', 'never', ' ', 'touched', ' ', 'a', ' ', 'brush', '.', '', '\"', '', '\\n', '', '\\n', 'And', ' ', 'his', ' ', 'tone', ' ', 'told', ' ', 'me', ' ', 'in', ' ', 'a', ' ', 'flash', ' ', 'that', ' ', 'he', ' ', 'never', ' ', 'thought', ' ', 'of', ' ', 'anything', ' ', 'else', '.', '', '\\n', '', '\\n', 'I', ' ', 'moved', ' ', 'away', ',', '', ' ', 'instinctively', ' ', 'embarrassed', ' ', 'by', ' ', 'my', ' ', 'unexpected', ' ', 'discovery', ';', '', ' ', 'and', ' ', 'as', ' ', 'I', ' ', 'turned', ',', '', ' ', 'my', ' ', 'eye', ' ', 'fell', ' ', 'on', ' ', 'a', ' ', 'small', ' ', 'picture', ' ', 'above', ' ', 'the', ' ', 'mantel-piece', '--', 'the', ' ', 'only', ' ', 'object', ' ', 'breaking', ' ', 'the', ' ', 'plain', ' ', 'oak', ' ', 'panelling', ' ', 'of', ' ', 'the', ' ', 'room', '.', '', '\\n', '', '\\n', '', '\"', 'Oh', ',', '', ' ', 'by', ' ', 'Jove', '!', '', '\"', '', ' ', 'I', ' ', 'said', '.', '', '\\n', '', '\\n', 'It', ' ', 'was', ' ', 'a', ' ', 'sketch', ' ', 'of', ' ', 'a', ' ', 'donkey', '--', 'an', ' ', 'old', ' ', 'tired', ' ', 'donkey', ',', '', ' ', 'standing', ' ', 'in', ' ', 'the', ' ', 'rain', ' ', 'under', ' ', 'a', ' ', 'wall', '.', '', '\\n', '', '\\n', '', '\"', 'By', ' ', 'Jove', '--', 'a', ' ', 'Stroud', '!', '', '\"', '', ' ', 'I', ' ', 'cried', '.', '', '\\n', '', '\\n', 'He', ' ', 'was', ' ', 'silent', ';', '', ' ', 'but', ' ', 'I', ' ', 'felt', ' ', 'him', ' ', 'close', ' ', 'behind', ' ', 'me', ',', '', ' ', 'breathing', ' ', 'a', ' ', 'little', ' ', 'quickly', '.', '', '\\n', '', '\\n', '', '\"', 'What', ' ', 'a', ' ', 'wonder', '!', '', ' ', 'Made', ' ', 'with', ' ', 'a', ' ', 'dozen', ' ', 'lines', '--', 'but', ' ', 'on', ' ', 'everlasting', ' ', 'foundations', '.', '', ' ', 'You', ' ', 'lucky', ' ', 'chap', ',', '', ' ', 'where', ' ', 'did', ' ', 'you', ' ', 'get', ' ', 'it', '?', '', '\"', '', '\\n', '', '\\n', 'He', ' ', 'answered', ' ', 'slowly', ':', '', ' ', '', '\"', 'Mrs', '.', '', ' ', 'Stroud', ' ', 'gave', ' ', 'it', ' ', 'to', ' ', 'me', '.', '', '\"', '', '\\n', '', '\\n', '', '\"', 'Ah', '--', 'I', ' ', 'didn', \"'\", 't', ' ', 'know', ' ', 'you', ' ', 'even', ' ', 'knew', ' ', 'the', ' ', 'Strouds', '.', '', ' ', 'He', ' ', 'was', ' ', 'such', ' ', 'an', ' ', 'inflexible', ' ', 'hermit', '.', '', '\"', '', '\\n', '', '\\n', '', '\"', 'I', ' ', 'didn', \"'\", 't', '--', 'till', ' ', 'after', '.', '', ' ', '', '.', '', ' ', '', '.', '', ' ', '', '.', '', ' ', 'She', ' ', 'sent', ' ', 'for', ' ', 'me', ' ', 'to', ' ', 'paint', ' ', 'him', ' ', 'when', ' ', 'he', ' ', 'was', ' ', 'dead', '.', '', '\"', '', '\\n', '', '\\n', '', '\"', 'When', ' ', 'he', ' ', 'was', ' ', 'dead', '?', '', ' ', 'You', '?', '', '\"', '', '\\n', '', '\\n', 'I', ' ', 'must', ' ', 'have', ' ', 'let', ' ', 'a', ' ', 'little', ' ', 'too', ' ', 'much', ' ', 'amazement', ' ', 'escape', ' ', 'through', ' ', 'my', ' ', 'surprise', ',', '', ' ', 'for', ' ', 'he', ' ', 'answered', ' ', 'with', ' ', 'a', ' ', 'deprecating', ' ', 'laugh', ':', '', ' ', '', '\"', 'Yes', '--', 'she', \"'\", 's', ' ', 'an', ' ', 'awful', ' ', 'simpleton', ',', '', ' ', 'you', ' ', 'know', ',', '', ' ', 'Mrs', '.', '', ' ', 'Stroud', '.', '', ' ', 'Her', ' ', 'only', ' ', 'idea', ' ', 'was', ' ', 'to', ' ', 'have', ' ', 'him', ' ', 'done', ' ', 'by', ' ', 'a', ' ', 'fashionable', ' ', 'painter', '--', 'ah', ',', '', ' ', 'poor', ' ', 'Stroud', '!', '', ' ', 'She', ' ', 'thought', ' ', 'it', ' ', 'the', ' ', 'surest', ' ', 'way', ' ', 'of', ' ', 'proclaiming', ' ', 'his', ' ', 'greatness', '--', 'of', ' ', 'forcing', ' ', 'it', ' ', 'on', ' ', 'a', ' ', 'purblind', ' ', 'public', '.', '', ' ', 'And', ' ', 'at', ' ', 'the', ' ', 'moment', ' ', 'I', ' ', 'was', ' ', '', '_', 'the', '_', '', ' ', 'fashionable', ' ', 'painter', '.', '', '\"', '', '\\n', '', '\\n', '', '\"', 'Ah', ',', '', ' ', 'poor', ' ', 'Stroud', '--', 'as', ' ', 'you', ' ', 'say', '.', '', ' ', 'Was', ' ', '', '_', 'that', '_', '', ' ', 'his', ' ', 'history', '?', '', '\"', '', '\\n', '', '\\n', '', '\"', 'That', ' ', 'was', ' ', 'his', ' ', 'history', '.', '', ' ', 'She', ' ', 'believed', ' ', 'in', ' ', 'him', ',', '', ' ', 'gloried', ' ', 'in', ' ', 'him', '--', 'or', ' ', 'thought', ' ', 'she', ' ', 'did', '.', '', ' ', 'But', ' ', 'she', ' ', 'couldn', \"'\", 't', ' ', 'bear', ' ', 'not', ' ', 'to', ' ', 'have', ' ', 'all', ' ', 'the', ' ', 'drawing-rooms', ' ', 'with', ' ', 'her', '.', '', ' ', 'She', ' ', 'couldn', \"'\", 't', ' ', 'bear', ' ', 'the', ' ', 'fact', ' ', 'that', ',', '', ' ', 'on', ' ', 'varnishing', ' ', 'days', ',', '', ' ', 'one', ' ', 'could', ' ', 'always', ' ', 'get', ' ', 'near', ' ', 'enough', ' ', 'to', ' ', 'see', ' ', 'his', ' ', 'pictures', '.', '', ' ', 'Poor', ' ', 'woman', '!', '', ' ', 'She', \"'\", 's', ' ', 'just', ' ', 'a', ' ', 'fragment', ' ', 'groping', ' ', 'for', ' ', 'other', ' ', 'fragments', '.', '', ' ', 'Stroud', ' ', 'is', ' ', 'the', ' ', 'only', ' ', 'whole', ' ', 'I', ' ', 'ever', ' ', 'knew', '.', '', '\"', '', '\\n', '', '\\n', '', '\"', 'You', ' ', 'ever', ' ', 'knew', '?', '', ' ', 'But', ' ', 'you', ' ', 'just', ' ', 'said', '--', '', '\"', '', '\\n', '', '\\n', 'Gisburn', ' ', 'had', ' ', 'a', ' ', 'curious', ' ', 'smile', ' ', 'in', ' ', 'his', ' ', 'eyes', '.', '', '\\n', '', '\\n', '', '\"', 'Oh', ',', '', ' ', 'I', ' ', 'knew', ' ', 'him', ',', '', ' ', 'and', ' ', 'he', ' ', 'knew', ' ', 'me', '--', 'only', ' ', 'it', ' ', 'happened', ' ', 'after', ' ', 'he', ' ', 'was', ' ', 'dead', '.', '', '\"', '', '\\n', '', '\\n', 'I', ' ', 'dropped', ' ', 'my', ' ', 'voice', ' ', 'instinctively', '.', '', ' ', '', '\"', 'When', ' ', 'she', ' ', 'sent', ' ', 'for', ' ', 'you', '?', '', '\"', '', '\\n', '', '\\n', '', '\"', 'Yes', '--', 'quite', ' ', 'insensible', ' ', 'to', ' ', 'the', ' ', 'irony', '.', '', ' ', 'She', ' ', 'wanted', ' ', 'him', ' ', 'vindicated', '--', 'and', ' ', 'by', ' ', 'me', '!', '', '\"', '', '\\n', '', '\\n', 'He', ' ', 'laughed', ' ', 'again', ',', '', ' ', 'and', ' ', 'threw', ' ', 'back', ' ', 'his', ' ', 'head', ' ', 'to', ' ', 'look', ' ', 'up', ' ', 'at', ' ', 'the', ' ', 'sketch', ' ', 'of', ' ', 'the', ' ', 'donkey', '.', '', ' ', '', '\"', 'There', ' ', 'were', ' ', 'days', ' ', 'when', ' ', 'I', ' ', 'couldn', \"'\", 't', ' ', 'look', ' ', 'at', ' ', 'that', ' ', 'thing', '--', 'couldn', \"'\", 't', ' ', 'face', ' ', 'it', '.', '', ' ', 'But', ' ', 'I', ' ', 'forced', ' ', 'myself', ' ', 'to', ' ', 'put', ' ', 'it', ' ', 'here', ';', '', ' ', 'and', ' ', 'now', ' ', 'it', \"'\", 's', ' ', 'cured', ' ', 'me', '--', 'cured', ' ', 'me', '.', '', ' ', 'That', \"'\", 's', ' ', 'the', ' ', 'reason', ' ', 'why', ' ', 'I', ' ', 'don', \"'\", 't', ' ', 'dabble', ' ', 'any', ' ', 'more', ',', '', ' ', 'my', ' ', 'dear', ' ', 'Rickham', ';', '', ' ', 'or', ' ', 'rather', ' ', 'Stroud', ' ', 'himself', ' ', 'is', ' ', 'the', ' ', 'reason', '.', '', '\"', '', '\\n', '', '\\n', 'For', ' ', 'the', ' ', 'first', ' ', 'time', ' ', 'my', ' ', 'idle', ' ', 'curiosity', ' ', 'about', ' ', 'my', ' ', 'companion', ' ', 'turned', ' ', 'into', ' ', 'a', ' ', 'serious', ' ', 'desire', ' ', 'to', ' ', 'understand', ' ', 'him', ' ', 'better', '.', '', '\\n', '', '\\n', '', '\"', 'I', ' ', 'wish', ' ', 'you', \"'\", 'd', ' ', 'tell', ' ', 'me', ' ', 'how', ' ', 'it', ' ', 'happened', ',', '', '\"', '', ' ', 'I', ' ', 'said', '.', '', '\\n', '', '\\n', 'He', ' ', 'stood', ' ', 'looking', ' ', 'up', ' ', 'at', ' ', 'the', ' ', 'sketch', ',', '', ' ', 'and', ' ', 'twirling', ' ', 'between', ' ', 'his', ' ', 'fingers', ' ', 'a', ' ', 'cigarette', ' ', 'he', ' ', 'had', ' ', 'forgotten', ' ', 'to', ' ', 'light', '.', '', ' ', 'Suddenly', ' ', 'he', ' ', 'turned', ' ', 'toward', ' ', 'me', '.', '', '\\n', '', '\\n', '', '\"', 'I', \"'\", 'd', ' ', 'rather', ' ', 'like', ' ', 'to', ' ', 'tell', ' ', 'you', '--', 'because', ' ', 'I', \"'\", 've', ' ', 'always', ' ', 'suspected', ' ', 'you', ' ', 'of', ' ', 'loathing', ' ', 'my', ' ', 'work', '.', '', '\"', '', '\\n', '', '\\n', 'I', ' ', 'made', ' ', 'a', ' ', 'deprecating', ' ', 'gesture', ',', '', ' ', 'which', ' ', 'he', ' ', 'negatived', ' ', 'with', ' ', 'a', ' ', 'good-humoured', ' ', 'shrug', '.', '', '\\n', '', '\\n', '', '\"', 'Oh', ',', '', ' ', 'I', ' ', 'didn', \"'\", 't', ' ', 'care', ' ', 'a', ' ', 'straw', ' ', 'when', ' ', 'I', ' ', 'believed', ' ', 'in', ' ', 'myself', '--', 'and', ' ', 'now', ' ', 'it', \"'\", 's', ' ', 'an', ' ', 'added', ' ', 'tie', ' ', 'between', ' ', 'us', '!', '', '\"', '', '\\n', '', '\\n', 'He', ' ', 'laughed', ' ', 'slightly', ',', '', ' ', 'without', ' ', 'bitterness', ',', '', ' ', 'and', ' ', 'pushed', ' ', 'one', ' ', 'of', ' ', 'the', ' ', 'deep', ' ', 'arm-chairs', ' ', 'forward', '.', '', ' ', '', '\"', 'There', ':', '', ' ', 'make', ' ', 'yourself', ' ', 'comfortable', '--', 'and', ' ', 'here', ' ', 'are', ' ', 'the', ' ', 'cigars', ' ', 'you', ' ', 'like', '.', '', '\"', '', '\\n', '', '\\n', 'He', ' ', 'placed', ' ', 'them', ' ', 'at', ' ', 'my', ' ', 'elbow', ' ', 'and', ' ', 'continued', ' ', 'to', ' ', 'wander', ' ', 'up', ' ', 'and', ' ', 'down', ' ', 'the', ' ', 'room', ',', '', ' ', 'stopping', ' ', 'now', ' ', 'and', ' ', 'then', ' ', 'beneath', ' ', 'the', ' ', 'picture', '.', '', '\\n', '', '\\n', '', '\"', 'How', ' ', 'it', ' ', 'happened', '?', '', ' ', 'I', ' ', 'can', ' ', 'tell', ' ', 'you', ' ', 'in', ' ', 'five', ' ', 'minutes', '--', 'and', ' ', 'it', ' ', 'didn', \"'\", 't', ' ', 'take', ' ', 'much', ' ', 'longer', ' ', 'to', ' ', 'happen', '.', '', ' ', '', '.', '', ' ', '', '.', '', ' ', '', '.', '', ' ', 'I', ' ', 'can', ' ', 'remember', ' ', 'now', ' ', 'how', ' ', 'surprised', ' ', 'and', ' ', 'pleased', ' ', 'I', ' ', 'was', ' ', 'when', ' ', 'I', ' ', 'got', ' ', 'Mrs', '.', '', ' ', 'Stroud', \"'\", 's', ' ', 'note', '.', '', ' ', 'Of', ' ', 'course', ',', '', ' ', 'deep', ' ', 'down', ',', '', ' ', 'I', ' ', 'had', ' ', 'always', ' ', '', '_', 'felt', '_', '', ' ', 'there', ' ', 'was', ' ', 'no', ' ', 'one', ' ', 'like', ' ', 'him', '--', 'only', ' ', 'I', ' ', 'had', ' ', 'gone', ' ', 'with', ' ', 'the', ' ', 'stream', ',', '', ' ', 'echoed', ' ', 'the', ' ', 'usual', ' ', 'platitudes', ' ', 'about', ' ', 'him', ',', '', ' ', 'till', ' ', 'I', ' ', 'half', ' ', 'got', ' ', 'to', ' ', 'think', ' ', 'he', ' ', 'was', ' ', 'a', ' ', 'failure', ',', '', ' ', 'one', ' ', 'of', ' ', 'the', ' ', 'kind', ' ', 'that', ' ', 'are', ' ', 'left', ' ', 'behind', '.', '', ' ', 'By', ' ', 'Jove', ',', '', ' ', 'and', ' ', 'he', ' ', '', '_', 'was', '_', '', ' ', 'left', ' ', 'behind', '--', 'because', ' ', 'he', ' ', 'had', ' ', 'come', ' ', 'to', ' ', 'stay', '!', '', ' ', 'The', ' ', 'rest', ' ', 'of', ' ', 'us', ' ', 'had', ' ', 'to', ' ', 'let', ' ', 'ourselves', ' ', 'be', ' ', 'swept', ' ', 'along', ' ', 'or', ' ', 'go', ' ', 'under', ',', '', ' ', 'but', ' ', 'he', ' ', 'was', ' ', 'high', ' ', 'above', ' ', 'the', ' ', 'current', '--', 'on', ' ', 'everlasting', ' ', 'foundations', ',', '', ' ', 'as', ' ', 'you', ' ', 'say', '.', '', '\\n', '', '\\n', '', '\"', 'Well', ',', '', ' ', 'I', ' ', 'went', ' ', 'off', ' ', 'to', ' ', 'the', ' ', 'house', ' ', 'in', ' ', 'my', ' ', 'most', ' ', 'egregious', ' ', 'mood', '--', 'rather', ' ', 'moved', ',', '', ' ', 'Lord', ' ', 'forgive', ' ', 'me', ',', '', ' ', 'at', ' ', 'the', ' ', 'pathos', ' ', 'of', ' ', 'poor', ' ', 'Stroud', \"'\", 's', ' ', 'career', ' ', 'of', ' ', 'failure', ' ', 'being', ' ', 'crowned', ' ', 'by', ' ', 'the', ' ', 'glory', ' ', 'of', ' ', 'my', ' ', 'painting', ' ', 'him', '!', '', ' ', 'Of', ' ', 'course', ' ', 'I', ' ', 'meant', ' ', 'to', ' ', 'do', ' ', 'the', ' ', 'picture', ' ', 'for', ' ', 'nothing', '--', 'I', ' ', 'told', ' ', 'Mrs', '.', '', ' ', 'Stroud', ' ', 'so', ' ', 'when', ' ', 'she', ' ', 'began', ' ', 'to', ' ', 'stammer', ' ', 'something', ' ', 'about', ' ', 'her', ' ', 'poverty', '.', '', ' ', 'I', ' ', 'remember', ' ', 'getting', ' ', 'off', ' ', 'a', ' ', 'prodigious', ' ', 'phrase', ' ', 'about', ' ', 'the', ' ', 'honour', ' ', 'being', ' ', '', '_', 'mine', '_', '', '--', 'oh', ',', '', ' ', 'I', ' ', 'was', ' ', 'princely', ',', '', ' ', 'my', ' ', 'dear', ' ', 'Rickham', '!', '', ' ', 'I', ' ', 'was', ' ', 'posing', ' ', 'to', ' ', 'myself', ' ', 'like', ' ', 'one', ' ', 'of', ' ', 'my', ' ', 'own', ' ', 'sitters', '.', '', '\\n', '', '\\n', '', '\"', 'Then', ' ', 'I', ' ', 'was', ' ', 'taken', ' ', 'up', ' ', 'and', ' ', 'left', ' ', 'alone', ' ', 'with', ' ', 'him', '.', '', ' ', 'I', ' ', 'had', ' ', 'sent', ' ', 'all', ' ', 'my', ' ', 'traps', ' ', 'in', ' ', 'advance', ',', '', ' ', 'and', ' ', 'I', ' ', 'had', ' ', 'only', ' ', 'to', ' ', 'set', ' ', 'up', ' ', 'the', ' ', 'easel', ' ', 'and', ' ', 'get', ' ', 'to', ' ', 'work', '.', '', ' ', 'He', ' ', 'had', ' ', 'been', ' ', 'dead', ' ', 'only', ' ', 'twenty-four', ' ', 'hours', ',', '', ' ', 'and', ' ', 'he', ' ', 'died', ' ', 'suddenly', ',', '', ' ', 'of', ' ', 'heart', ' ', 'disease', ',', '', ' ', 'so', ' ', 'that', ' ', 'there', ' ', 'had', ' ', 'been', ' ', 'no', ' ', 'preliminary', ' ', 'work', ' ', 'of', ' ', 'destruction', '--', 'his', ' ', 'face', ' ', 'was', ' ', 'clear', ' ', 'and', ' ', 'untouched', '.', '', ' ', 'I', ' ', 'had', ' ', 'met', ' ', 'him', ' ', 'once', ' ', 'or', ' ', 'twice', ',', '', ' ', 'years', ' ', 'before', ',', '', ' ', 'and', ' ', 'thought', ' ', 'him', ' ', 'insignificant', ' ', 'and', ' ', 'dingy', '.', '', ' ', 'Now', ' ', 'I', ' ', 'saw', ' ', 'that', ' ', 'he', ' ', 'was', ' ', 'superb', '.', '', '\\n', '', '\\n', '', '\"', 'I', ' ', 'was', ' ', 'glad', ' ', 'at', ' ', 'first', ',', '', ' ', 'with', ' ', 'a', ' ', 'merely', ' ', 'aesthetic', ' ', 'satisfaction', ':', '', ' ', 'glad', ' ', 'to', ' ', 'have', ' ', 'my', ' ', 'hand', ' ', 'on', ' ', 'such', ' ', 'a', ' ', '', \"'\", 'subject', '.', '', \"'\", '', ' ', 'Then', ' ', 'his', ' ', 'strange', ' ', 'life-likeness', ' ', 'began', ' ', 'to', ' ', 'affect', ' ', 'me', ' ', 'queerly', '--', 'as', ' ', 'I', ' ', 'blocked', ' ', 'the', ' ', 'head', ' ', 'in', ' ', 'I', ' ', 'felt', ' ', 'as', ' ', 'if', ' ', 'he', ' ', 'were', ' ', 'watching', ' ', 'me', ' ', 'do', ' ', 'it', '.', '', ' ', 'The', ' ', 'sensation', ' ', 'was', ' ', 'followed', ' ', 'by', ' ', 'the', ' ', 'thought', ':', '', ' ', 'if', ' ', 'he', ' ', '', '_', 'were', '_', '', ' ', 'watching', ' ', 'me', ',', '', ' ', 'what', ' ', 'would', ' ', 'he', ' ', 'say', ' ', 'to', ' ', 'my', ' ', 'way', ' ', 'of', ' ', 'working', '?', '', ' ', 'My', ' ', 'strokes', ' ', 'began', ' ', 'to', ' ', 'go', ' ', 'a', ' ', 'little', ' ', 'wild', '--', 'I', ' ', 'felt', ' ', 'nervous', ' ', 'and', ' ', 'uncertain', '.', '', '\\n', '', '\\n', '', '\"', 'Once', ',', '', ' ', 'when', ' ', 'I', ' ', 'looked', ' ', 'up', ',', '', ' ', 'I', ' ', 'seemed', ' ', 'to', ' ', 'see', ' ', 'a', ' ', 'smile', ' ', 'behind', ' ', 'his', ' ', 'close', ' ', 'grayish', ' ', 'beard', '--', 'as', ' ', 'if', ' ', 'he', ' ', 'had', ' ', 'the', ' ', 'secret', ',', '', ' ', 'and', ' ', 'were', ' ', 'amusing', ' ', 'himself', ' ', 'by', ' ', 'holding', ' ', 'it', ' ', 'back', ' ', 'from', ' ', 'me', '.', '', ' ', 'That', ' ', 'exasperated', ' ', 'me', ' ', 'still', ' ', 'more', '.', '', ' ', 'The', ' ', 'secret', '?', '', ' ', 'Why', ',', '', ' ', 'I', ' ', 'had', ' ', 'a', ' ', 'secret', ' ', 'worth', ' ', 'twenty', ' ', 'of', ' ', 'his', '!', '', ' ', 'I', ' ', 'dashed', ' ', 'at', ' ', 'the', ' ', 'canvas', ' ', 'furiously', ',', '', ' ', 'and', ' ', 'tried', ' ', 'some', ' ', 'of', ' ', 'my', ' ', 'bravura', ' ', 'tricks', '.', '', ' ', 'But', ' ', 'they', ' ', 'failed', ' ', 'me', ',', '', ' ', 'they', ' ', 'crumbled', '.', '', ' ', 'I', ' ', 'saw', ' ', 'that', ' ', 'he', ' ', 'wasn', \"'\", 't', ' ', 'watching', ' ', 'the', ' ', 'showy', ' ', 'bits', '--', 'I', ' ', 'couldn', \"'\", 't', ' ', 'distract', ' ', 'his', ' ', 'attention', ';', '', ' ', 'he', ' ', 'just', ' ', 'kept', ' ', 'his', ' ', 'eyes', ' ', 'on', ' ', 'the', ' ', 'hard', ' ', 'passages', ' ', 'between', '.', '', ' ', 'Those', ' ', 'were', ' ', 'the', ' ', 'ones', ' ', 'I', ' ', 'had', ' ', 'always', ' ', 'shirked', ',', '', ' ', 'or', ' ', 'covered', ' ', 'up', ' ', 'with', ' ', 'some', ' ', 'lying', ' ', 'paint', '.', '', ' ', 'And', ' ', 'how', ' ', 'he', ' ', 'saw', ' ', 'through', ' ', 'my', ' ', 'lies', '!', '', '\\n', '', '\\n', '', '\"', 'I', ' ', 'looked', ' ', 'up', ' ', 'again', ',', '', ' ', 'and', ' ', 'caught', ' ', 'sight', ' ', 'of', ' ', 'that', ' ', 'sketch', ' ', 'of', ' ', 'the', ' ', 'donkey', ' ', 'hanging', ' ', 'on', ' ', 'the', ' ', 'wall', ' ', 'near', ' ', 'his', ' ', 'bed', '.', '', ' ', 'His', ' ', 'wife', ' ', 'told', ' ', 'me', ' ', 'afterward', ' ', 'it', ' ', 'was', ' ', 'the', ' ', 'last', ' ', 'thing', ' ', 'he', ' ', 'had', ' ', 'done', '--', 'just', ' ', 'a', ' ', 'note', ' ', 'taken', ' ', 'with', ' ', 'a', ' ', 'shaking', ' ', 'hand', ',', '', ' ', 'when', ' ', 'he', ' ', 'was', ' ', 'down', ' ', 'in', ' ', 'Devonshire', ' ', 'recovering', ' ', 'from', ' ', 'a', ' ', 'previous', ' ', 'heart', ' ', 'attack', '.', '', ' ', 'Just', ' ', 'a', ' ', 'note', '!', '', ' ', 'But', ' ', 'it', ' ', 'tells', ' ', 'his', ' ', 'whole', ' ', 'history', '.', '', ' ', 'There', ' ', 'are', ' ', 'years', ' ', 'of', ' ', 'patient', ' ', 'scornful', ' ', 'persistence', ' ', 'in', ' ', 'every', ' ', 'line', '.', '', ' ', 'A', ' ', 'man', ' ', 'who', ' ', 'had', ' ', 'swum', ' ', 'with', ' ', 'the', ' ', 'current', ' ', 'could', ' ', 'never', ' ', 'have', ' ', 'learned', ' ', 'that', ' ', 'mighty', ' ', 'up-stream', ' ', 'stroke', '.', '', ' ', '', '.', '', ' ', '', '.', '', ' ', '', '.', '', '\\n', '', '\\n', '', '\"', 'I', ' ', 'turned', ' ', 'back', ' ', 'to', ' ', 'my', ' ', 'work', ',', '', ' ', 'and', ' ', 'went', ' ', 'on', ' ', 'groping', ' ', 'and', ' ', 'muddling', ';', '', ' ', 'then', ' ', 'I', ' ', 'looked', ' ', 'at', ' ', 'the', ' ', 'donkey', ' ', 'again', '.', '', ' ', 'I', ' ', 'saw', ' ', 'that', ',', '', ' ', 'when', ' ', 'Stroud', ' ', 'laid', ' ', 'in', ' ', 'the', ' ', 'first', ' ', 'stroke', ',', '', ' ', 'he', ' ', 'knew', ' ', 'just', ' ', 'what', ' ', 'the', ' ', 'end', ' ', 'would', ' ', 'be', '.', '', ' ', 'He', ' ', 'had', ' ', 'possessed', ' ', 'his', ' ', 'subject', ',', '', ' ', 'absorbed', ' ', 'it', ',', '', ' ', 'recreated', ' ', 'it', '.', '', ' ', 'When', ' ', 'had', ' ', 'I', ' ', 'done', ' ', 'that', ' ', 'with', ' ', 'any', ' ', 'of', ' ', 'my', ' ', 'things', '?', '', ' ', 'They', ' ', 'hadn', \"'\", 't', ' ', 'been', ' ', 'born', ' ', 'of', ' ', 'me', '--', 'I', ' ', 'had', ' ', 'just', ' ', 'adopted', ' ', 'them', '.', '', ' ', '', '.', '', ' ', '', '.', '', ' ', '', '.', '', '\\n', '', '\\n', '', '\"', 'Hang', ' ', 'it', ',', '', ' ', 'Rickham', ',', '', ' ', 'with', ' ', 'that', ' ', 'face', ' ', 'watching', ' ', 'me', ' ', 'I', ' ', 'couldn', \"'\", 't', ' ', 'do', ' ', 'another', ' ', 'stroke', '.', '', ' ', 'The', ' ', 'plain', ' ', 'truth', ' ', 'was', ',', '', ' ', 'I', ' ', 'didn', \"'\", 't', ' ', 'know', ' ', 'where', ' ', 'to', ' ', 'put', ' ', 'it', '--', '', '_', 'I', ' ', 'had', ' ', 'never', ' ', 'known', '_', '', '.', '', ' ', 'Only', ',', '', ' ', 'with', ' ', 'my', ' ', 'sitters', ' ', 'and', ' ', 'my', ' ', 'public', ',', '', ' ', 'a', ' ', 'showy', ' ', 'splash', ' ', 'of', ' ', 'colour', ' ', 'covered', ' ', 'up', ' ', 'the', ' ', 'fact', '--', 'I', ' ', 'just', ' ', 'threw', ' ', 'paint', ' ', 'into', ' ', 'their', ' ', 'faces', '.', '', ' ', '', '.', '', ' ', '', '.', '', ' ', '', '.', '', ' ', 'Well', ',', '', ' ', 'paint', ' ', 'was', ' ', 'the', ' ', 'one', ' ', 'medium', ' ', 'those', ' ', 'dead', ' ', 'eyes', ' ', 'could', ' ', 'see', ' ', 'through', '--', 'see', ' ', 'straight', ' ', 'to', ' ', 'the', ' ', 'tottering', ' ', 'foundations', ' ', 'underneath', '.', '', ' ', 'Don', \"'\", 't', ' ', 'you', ' ', 'know', ' ', 'how', ',', '', ' ', 'in', ' ', 'talking', ' ', 'a', ' ', 'foreign', ' ', 'language', ',', '', ' ', 'even', ' ', 'fluently', ',', '', ' ', 'one', ' ', 'says', ' ', 'half', ' ', 'the', ' ', 'time', ' ', 'not', ' ', 'what', ' ', 'one', ' ', 'wants', ' ', 'to', ' ', 'but', ' ', 'what', ' ', 'one', ' ', 'can', '?', '', ' ', 'Well', '--', 'that', ' ', 'was', ' ', 'the', ' ', 'way', ' ', 'I', ' ', 'painted', ';', '', ' ', 'and', ' ', 'as', ' ', 'he', ' ', 'lay', ' ', 'there', ' ', 'and', ' ', 'watched', ' ', 'me', ',', '', ' ', 'the', ' ', 'thing', ' ', 'they', ' ', 'called', ' ', 'my', ' ', '', \"'\", 'technique', \"'\", '', ' ', 'collapsed', ' ', 'like', ' ', 'a', ' ', 'house', ' ', 'of', ' ', 'cards', '.', '', ' ', 'He', ' ', 'didn', \"'\", 't', ' ', 'sneer', ',', '', ' ', 'you', ' ', 'understand', ',', '', ' ', 'poor', ' ', 'Stroud', '--', 'he', ' ', 'just', ' ', 'lay', ' ', 'there', ' ', 'quietly', ' ', 'watching', ',', '', ' ', 'and', ' ', 'on', ' ', 'his', ' ', 'lips', ',', '', ' ', 'through', ' ', 'the', ' ', 'gray', ' ', 'beard', ',', '', ' ', 'I', ' ', 'seemed', ' ', 'to', ' ', 'hear', ' ', 'the', ' ', 'question', ':', '', ' ', '', \"'\", 'Are', ' ', 'you', ' ', 'sure', ' ', 'you', ' ', 'know', ' ', 'where', ' ', 'you', \"'\", 're', ' ', 'coming', ' ', 'out', '?', '', \"'\", '', '\\n', '', '\\n', '', '\"', 'If', ' ', 'I', ' ', 'could', ' ', 'have', ' ', 'painted', ' ', 'that', ' ', 'face', ',', '', ' ', 'with', ' ', 'that', ' ', 'question', ' ', 'on', ' ', 'it', ',', '', ' ', 'I', ' ', 'should', ' ', 'have', ' ', 'done', ' ', 'a', ' ', 'great', ' ', 'thing', '.', '', ' ', 'The', ' ', 'next', ' ', 'greatest', ' ', 'thing', ' ', 'was', ' ', 'to', ' ', 'see', ' ', 'that', ' ', 'I', ' ', 'couldn', \"'\", 't', '--', 'and', ' ', 'that', ' ', 'grace', ' ', 'was', ' ', 'given', ' ', 'me', '.', '', ' ', 'But', ',', '', ' ', 'oh', ',', '', ' ', 'at', ' ', 'that', ' ', 'minute', ',', '', ' ', 'Rickham', ',', '', ' ', 'was', ' ', 'there', ' ', 'anything', ' ', 'on', ' ', 'earth', ' ', 'I', ' ', 'wouldn', \"'\", 't', ' ', 'have', ' ', 'given', ' ', 'to', ' ', 'have', ' ', 'Stroud', ' ', 'alive', ' ', 'before', ' ', 'me', ',', '', ' ', 'and', ' ', 'to', ' ', 'hear', ' ', 'him', ' ', 'say', ':', '', ' ', '', \"'\", 'It', \"'\", 's', ' ', 'not', ' ', 'too', ' ', 'late', '--', 'I', \"'\", 'll', ' ', 'show', ' ', 'you', ' ', 'how', \"'\", '', '?', '', '\\n', '', '\\n', '', '\"', 'It', ' ', '', '_', 'was', '_', '', ' ', 'too', ' ', 'late', '--', 'it', ' ', 'would', ' ', 'have', ' ', 'been', ',', '', ' ', 'even', ' ', 'if', ' ', 'he', \"'\", 'd', ' ', 'been', ' ', 'alive', '.', '', ' ', 'I', ' ', 'packed', ' ', 'up', ' ', 'my', ' ', 'traps', ',', '', ' ', 'and', ' ', 'went', ' ', 'down', ' ', 'and', ' ', 'told', ' ', 'Mrs', '.', '', ' ', 'Stroud', '.', '', ' ', 'Of', ' ', 'course', ' ', 'I', ' ', 'didn', \"'\", 't', ' ', 'tell', ' ', 'her', ' ', '', '_', 'that', '_', '', '--', 'it', ' ', 'would', ' ', 'have', ' ', 'been', ' ', 'Greek', ' ', 'to', ' ', 'her', '.', '', ' ', 'I', ' ', 'simply', ' ', 'said', ' ', 'I', ' ', 'couldn', \"'\", 't', ' ', 'paint', ' ', 'him', ',', '', ' ', 'that', ' ', 'I', ' ', 'was', ' ', 'too', ' ', 'moved', '.', '', ' ', 'She', ' ', 'rather', ' ', 'liked', ' ', 'the', ' ', 'idea', '--', 'she', \"'\", 's', ' ', 'so', ' ', 'romantic', '!', '', ' ', 'It', ' ', 'was', ' ', 'that', ' ', 'that', ' ', 'made', ' ', 'her', ' ', 'give', ' ', 'me', ' ', 'the', ' ', 'donkey', '.', '', ' ', 'But', ' ', 'she', ' ', 'was', ' ', 'terribly', ' ', 'upset', ' ', 'at', ' ', 'not', ' ', 'getting', ' ', 'the', ' ', 'portrait', '--', 'she', ' ', 'did', ' ', 'so', ' ', 'want', ' ', 'him', ' ', '', \"'\", 'done', \"'\", '', ' ', 'by', ' ', 'some', ' ', 'one', ' ', 'showy', '!', '', ' ', 'At', ' ', 'first', ' ', 'I', ' ', 'was', ' ', 'afraid', ' ', 'she', ' ', 'wouldn', \"'\", 't', ' ', 'let', ' ', 'me', ' ', 'off', '--', 'and', ' ', 'at', ' ', 'my', ' ', 'wits', \"'\", '', ' ', 'end', ' ', 'I', ' ', 'suggested', ' ', 'Grindle', '.', '', ' ', 'Yes', ',', '', ' ', 'it', ' ', 'was', ' ', 'I', ' ', 'who', ' ', 'started', ' ', 'Grindle', ':', '', ' ', 'I', ' ', 'told', ' ', 'Mrs', '.', '', ' ', 'Stroud', ' ', 'he', ' ', 'was', ' ', 'the', ' ', '', \"'\", 'coming', \"'\", '', ' ', 'man', ',', '', ' ', 'and', ' ', 'she', ' ', 'told', ' ', 'somebody', ' ', 'else', ',', '', ' ', 'and', ' ', 'so', ' ', 'it', ' ', 'got', ' ', 'to', ' ', 'be', ' ', 'true', '.', '', ' ', '', '.', '', ' ', '', '.', '', ' ', '', '.', '', ' ', 'And', ' ', 'he', ' ', 'painted', ' ', 'Stroud', ' ', 'without', ' ', 'wincing', ';', '', ' ', 'and', ' ', 'she', ' ', 'hung', ' ', 'the', ' ', 'picture', ' ', 'among', ' ', 'her', ' ', 'husband', \"'\", 's', ' ', 'things', '.', '', ' ', '', '.', '', ' ', '', '.', '', ' ', '', '.', '', '\"', '', '\\n', '', '\\n', 'He', ' ', 'flung', ' ', 'himself', ' ', 'down', ' ', 'in', ' ', 'the', ' ', 'arm-chair', ' ', 'near', ' ', 'mine', ',', '', ' ', 'laid', ' ', 'back', ' ', 'his', ' ', 'head', ',', '', ' ', 'and', ' ', 'clasping', ' ', 'his', ' ', 'arms', ' ', 'beneath', ' ', 'it', ',', '', ' ', 'looked', ' ', 'up', ' ', 'at', ' ', 'the', ' ', 'picture', ' ', 'above', ' ', 'the', ' ', 'chimney-piece', '.', '', '\\n', '', '\\n', '', '\"', 'I', ' ', 'like', ' ', 'to', ' ', 'fancy', ' ', 'that', ' ', 'Stroud', ' ', 'himself', ' ', 'would', ' ', 'have', ' ', 'given', ' ', 'it', ' ', 'to', ' ', 'me', ',', '', ' ', 'if', ' ', 'he', \"'\", 'd', ' ', 'been', ' ', 'able', ' ', 'to', ' ', 'say', ' ', 'what', ' ', 'he', ' ', 'thought', ' ', 'that', ' ', 'day', '.', '', '\"', '', '\\n', '', '\\n', 'And', ',', '', ' ', 'in', ' ', 'answer', ' ', 'to', ' ', 'a', ' ', 'question', ' ', 'I', ' ', 'put', ' ', 'half-mechanically', '--', '', '\"', 'Begin', ' ', 'again', '?', '', '\"', '', ' ', 'he', ' ', 'flashed', ' ', 'out', '.', '', ' ', '', '\"', 'When', ' ', 'the', ' ', 'one', ' ', 'thing', ' ', 'that', ' ', 'brings', ' ', 'me', ' ', 'anywhere', ' ', 'near', ' ', 'him', ' ', 'is', ' ', 'that', ' ', 'I', ' ', 'knew', ' ', 'enough', ' ', 'to', ' ', 'leave', ' ', 'off', '?', '', '\"', '', '\\n', '', '\\n', 'He', ' ', 'stood', ' ', 'up', ' ', 'and', ' ', 'laid', ' ', 'his', ' ', 'hand', ' ', 'on', ' ', 'my', ' ', 'shoulder', ' ', 'with', ' ', 'a', ' ', 'laugh', '.', '', ' ', '', '\"', 'Only', ' ', 'the', ' ', 'irony', ' ', 'of', ' ', 'it', ' ', 'is', ' ', 'that', ' ', 'I', ' ', '', '_', 'am', '_', '', ' ', 'still', ' ', 'painting', '--', 'since', ' ', 'Grindle', \"'\", 's', ' ', 'doing', ' ', 'it', ' ', 'for', ' ', 'me', '!', '', ' ', 'The', ' ', 'Strouds', ' ', 'stand', ' ', 'alone', ',', '', ' ', 'and', ' ', 'happen', ' ', 'once', '--', 'but', ' ', 'there', \"'\", 's', ' ', 'no', ' ', 'exterminating', ' ', 'our', ' ', 'kind', ' ', 'of', ' ', 'art', '.', '', '\"', '']\n",
      "['I', 'HAD', 'always', 'thought', 'Jack', 'Gisburn', 'rather', 'a', 'cheap', 'genius', '--', 'though', 'a', 'good', 'fellow', 'enough', '--', 'so', 'it', 'was', 'no', 'great', 'surprise', 'to', 'me', 'to', 'hear', 'that', ',', 'in', 'the', 'height', 'of', 'his', 'glory', ',', 'he', 'had', 'dropped', 'his', 'painting', ',', 'married', 'a', 'rich', 'widow', ',', 'and', 'established', 'himself', 'in', 'a', 'villa', 'on', 'the', 'Riviera', '.', '(', 'Though', 'I', 'rather', 'thought', 'it', 'would', 'have', 'been', 'Rome', 'or', 'Florence', '.', ')', '\"', 'The', 'height', 'of', 'his', 'glory', '\"', '--', 'that', 'was', 'what', 'the', 'women', 'called', 'it', '.', 'I', 'can', 'hear', 'Mrs', '.', 'Gideon', 'Thwing', '--', 'his', 'last', 'Chicago', 'sitter', '--', 'deploring', 'his', 'unaccountable', 'abdication', '.', '\"', 'Of', 'course', 'it', \"'\", 's', 'going', 'to', 'send', 'the', 'value', 'of', 'my', 'picture', \"'\", 'way', 'up', ';', 'but', 'I', 'don', \"'\", 't', 'think', 'of', 'that', ',', 'Mr', '.', 'Rickham', '--', 'the', 'loss', 'to', 'Arrt', 'is', 'all', 'I', 'think', 'of', '.', '\"', 'The', 'word', ',', 'on', 'Mrs', '.', 'Thwing', \"'\", 's', 'lips', ',', 'multiplied', 'its', '_', 'rs', '_', 'as', 'though', 'they', 'were', 'reflected', 'in', 'an', 'endless', 'vista', 'of', 'mirrors', '.', 'And', 'it', 'was', 'not', 'only', 'the', 'Mrs', '.', 'Thwings', 'who', 'mourned', '.', 'Had', 'not', 'the', 'exquisite', 'Hermia', 'Croft', ',', 'at', 'the', 'last', 'Grafton', 'Gallery', 'show', ',', 'stopped', 'me', 'before', 'Gisburn', \"'\", 's', '\"', 'Moon-dancers', '\"', 'to', 'say', ',', 'with', 'tears', 'in', 'her', 'eyes', ':', '\"', 'We', 'shall', 'not', 'look', 'upon', 'its', 'like', 'again', '\"', '?', 'Well', '!', '--', 'even', 'through', 'the', 'prism', 'of', 'Hermia', \"'\", 's', 'tears', 'I', 'felt', 'able', 'to', 'face', 'the', 'fact', 'with', 'equanimity', '.', 'Poor', 'Jack', 'Gisburn', '!', 'The', 'women', 'had', 'made', 'him', '--', 'it', 'was', 'fitting', 'that', 'they', 'should', 'mourn', 'him', '.', 'Among', 'his', 'own', 'sex', 'fewer', 'regrets', 'were', 'heard', ',', 'and', 'in', 'his', 'own', 'trade', 'hardly', 'a', 'murmur', '.', 'Professional', 'jealousy', '?', 'Perhaps', '.', 'If', 'it', 'were', ',', 'the', 'honour', 'of', 'the', 'craft', 'was', 'vindicated', 'by', 'little', 'Claude', 'Nutley', ',', 'who', ',', 'in', 'all', 'good', 'faith', ',', 'brought', 'out', 'in', 'the', 'Burlington', 'a', 'very', 'handsome', '\"', 'obituary', '\"', 'on', 'Jack', '--', 'one', 'of', 'those', 'showy', 'articles', 'stocked', 'with', 'random', 'technicalities', 'that', 'I', 'have', 'heard', '(', 'I', 'won', \"'\", 't', 'say', 'by', 'whom', ')', 'compared', 'to', 'Gisburn', \"'\", 's', 'painting', '.', 'And', 'so', '--', 'his', 'resolve', 'being', 'apparently', 'irrevocable', '--', 'the', 'discussion', 'gradually', 'died', 'out', ',', 'and', ',', 'as', 'Mrs', '.', 'Thwing', 'had', 'predicted', ',', 'the', 'price', 'of', '\"', 'Gisburns', '\"', 'went', 'up', '.', 'It', 'was', 'not', 'till', 'three', 'years', 'later', 'that', ',', 'in', 'the', 'course', 'of', 'a', 'few', 'weeks', \"'\", 'idling', 'on', 'the', 'Riviera', ',', 'it', 'suddenly', 'occurred', 'to', 'me', 'to', 'wonder', 'why', 'Gisburn', 'had', 'given', 'up', 'his', 'painting', '.', 'On', 'reflection', ',', 'it', 'really', 'was', 'a', 'tempting', 'problem', '.', 'To', 'accuse', 'his', 'wife', 'would', 'have', 'been', 'too', 'easy', '--', 'his', 'fair', 'sitters', 'had', 'been', 'denied', 'the', 'solace', 'of', 'saying', 'that', 'Mrs', '.', 'Gisburn', 'had', '\"', 'dragged', 'him', 'down', '.', '\"', 'For', 'Mrs', '.', 'Gisburn', '--', 'as', 'such', '--', 'had', 'not', 'existed', 'till', 'nearly', 'a', 'year', 'after', 'Jack', \"'\", 's', 'resolve', 'had', 'been', 'taken', '.', 'It', 'might', 'be', 'that', 'he', 'had', 'married', 'her', '--', 'since', 'he', 'liked', 'his', 'ease', '--', 'because', 'he', 'didn', \"'\", 't', 'want', 'to', 'go', 'on', 'painting', ';', 'but', 'it', 'would', 'have', 'been', 'hard', 'to', 'prove', 'that', 'he', 'had', 'given', 'up', 'his', 'painting', 'because', 'he', 'had', 'married', 'her', '.', 'Of', 'course', ',', 'if', 'she', 'had', 'not', 'dragged', 'him', 'down', ',', 'she', 'had', 'equally', ',', 'as', 'Miss', 'Croft', 'contended', ',', 'failed', 'to', '\"', 'lift', 'him', 'up', '\"', '--', 'she', 'had', 'not', 'led', 'him', 'back', 'to', 'the', 'easel', '.', 'To', 'put', 'the', 'brush', 'into', 'his', 'hand', 'again', '--', 'what', 'a', 'vocation', 'for', 'a', 'wife', '!', 'But', 'Mrs', '.', 'Gisburn', 'appeared', 'to', 'have', 'disdained', 'it', '--', 'and', 'I', 'felt', 'it', 'might', 'be', 'interesting', 'to', 'find', 'out', 'why', '.', 'The', 'desultory', 'life', 'of', 'the', 'Riviera', 'lends', 'itself', 'to', 'such', 'purely', 'academic', 'speculations', ';', 'and', 'having', ',', 'on', 'my', 'way', 'to', 'Monte', 'Carlo', ',', 'caught', 'a', 'glimpse', 'of', 'Jack', \"'\", 's', 'balustraded', 'terraces', 'between', 'the', 'pines', ',', 'I', 'had', 'myself', 'borne', 'thither', 'the', 'next', 'day', '.', 'I', 'found', 'the', 'couple', 'at', 'tea', 'beneath', 'their', 'palm-trees', ';', 'and', 'Mrs', '.', 'Gisburn', \"'\", 's', 'welcome', 'was', 'so', 'genial', 'that', ',', 'in', 'the', 'ensuing', 'weeks', ',', 'I', 'claimed', 'it', 'frequently', '.', 'It', 'was', 'not', 'that', 'my', 'hostess', 'was', '\"', 'interesting', '\"', ':', 'on', 'that', 'point', 'I', 'could', 'have', 'given', 'Miss', 'Croft', 'the', 'fullest', 'reassurance', '.', 'It', 'was', 'just', 'because', 'she', 'was', '_', 'not', '_', 'interesting', '--', 'if', 'I', 'may', 'be', 'pardoned', 'the', 'bull', '--', 'that', 'I', 'found', 'her', 'so', '.', 'For', 'Jack', ',', 'all', 'his', 'life', ',', 'had', 'been', 'surrounded', 'by', 'interesting', 'women', ':', 'they', 'had', 'fostered', 'his', 'art', ',', 'it', 'had', 'been', 'reared', 'in', 'the', 'hot-house', 'of', 'their', 'adulation', '.', 'And', 'it', 'was', 'therefore', 'instructive', 'to', 'note', 'what', 'effect', 'the', '\"', 'deadening', 'atmosphere', 'of', 'mediocrity', '\"', '(', 'I', 'quote', 'Miss', 'Croft', ')', 'was', 'having', 'on', 'him', '.', 'I', 'have', 'mentioned', 'that', 'Mrs', '.', 'Gisburn', 'was', 'rich', ';', 'and', 'it', 'was', 'immediately', 'perceptible', 'that', 'her', 'husband', 'was', 'extracting', 'from', 'this', 'circumstance', 'a', 'delicate', 'but', 'substantial', 'satisfaction', '.', 'It', 'is', ',', 'as', 'a', 'rule', ',', 'the', 'people', 'who', 'scorn', 'money', 'who', 'get', 'most', 'out', 'of', 'it', ';', 'and', 'Jack', \"'\", 's', 'elegant', 'disdain', 'of', 'his', 'wife', \"'\", 's', 'big', 'balance', 'enabled', 'him', ',', 'with', 'an', 'appearance', 'of', 'perfect', 'good-breeding', ',', 'to', 'transmute', 'it', 'into', 'objects', 'of', 'art', 'and', 'luxury', '.', 'To', 'the', 'latter', ',', 'I', 'must', 'add', ',', 'he', 'remained', 'relatively', 'indifferent', ';', 'but', 'he', 'was', 'buying', 'Renaissance', 'bronzes', 'and', 'eighteenth-century', 'pictures', 'with', 'a', 'discrimination', 'that', 'bespoke', 'the', 'amplest', 'resources', '.', '\"', 'Money', \"'\", 's', 'only', 'excuse', 'is', 'to', 'put', 'beauty', 'into', 'circulation', ',', '\"', 'was', 'one', 'of', 'the', 'axioms', 'he', 'laid', 'down', 'across', 'the', 'Sevres', 'and', 'silver', 'of', 'an', 'exquisitely', 'appointed', 'luncheon-table', ',', 'when', ',', 'on', 'a', 'later', 'day', ',', 'I', 'had', 'again', 'run', 'over', 'from', 'Monte', 'Carlo', ';', 'and', 'Mrs', '.', 'Gisburn', ',', 'beaming', 'on', 'him', ',', 'added', 'for', 'my', 'enlightenment', ':', '\"', 'Jack', 'is', 'so', 'morbidly', 'sensitive', 'to', 'every', 'form', 'of', 'beauty', '.', '\"', 'Poor', 'Jack', '!', 'It', 'had', 'always', 'been', 'his', 'fate', 'to', 'have', 'women', 'say', 'such', 'things', 'of', 'him', ':', 'the', 'fact', 'should', 'be', 'set', 'down', 'in', 'extenuation', '.', 'What', 'struck', 'me', 'now', 'was', 'that', ',', 'for', 'the', 'first', 'time', ',', 'he', 'resented', 'the', 'tone', '.', 'I', 'had', 'seen', 'him', ',', 'so', 'often', ',', 'basking', 'under', 'similar', 'tributes', '--', 'was', 'it', 'the', 'conjugal', 'note', 'that', 'robbed', 'them', 'of', 'their', 'savour', '?', 'No', '--', 'for', ',', 'oddly', 'enough', ',', 'it', 'became', 'apparent', 'that', 'he', 'was', 'fond', 'of', 'Mrs', '.', 'Gisburn', '--', 'fond', 'enough', 'not', 'to', 'see', 'her', 'absurdity', '.', 'It', 'was', 'his', 'own', 'absurdity', 'he', 'seemed', 'to', 'be', 'wincing', 'under', '--', 'his', 'own', 'attitude', 'as', 'an', 'object', 'for', 'garlands', 'and', 'incense', '.', '\"', 'My', 'dear', ',', 'since', 'I', \"'\", 've', 'chucked', 'painting', 'people', 'don', \"'\", 't', 'say', 'that', 'stuff', 'about', 'me', '--', 'they', 'say', 'it', 'about', 'Victor', 'Grindle', ',', '\"', 'was', 'his', 'only', 'protest', ',', 'as', 'he', 'rose', 'from', 'the', 'table', 'and', 'strolled', 'out', 'onto', 'the', 'sunlit', 'terrace', '.', 'I', 'glanced', 'after', 'him', ',', 'struck', 'by', 'his', 'last', 'word', '.', 'Victor', 'Grindle', 'was', ',', 'in', 'fact', ',', 'becoming', 'the', 'man', 'of', 'the', 'moment', '--', 'as', 'Jack', 'himself', ',', 'one', 'might', 'put', 'it', ',', 'had', 'been', 'the', 'man', 'of', 'the', 'hour', '.', 'The', 'younger', 'artist', 'was', 'said', 'to', 'have', 'formed', 'himself', 'at', 'my', 'friend', \"'\", 's', 'feet', ',', 'and', 'I', 'wondered', 'if', 'a', 'tinge', 'of', 'jealousy', 'underlay', 'the', 'latter', \"'\", 's', 'mysterious', 'abdication', '.', 'But', 'no', '--', 'for', 'it', 'was', 'not', 'till', 'after', 'that', 'event', 'that', 'the', '_', 'rose', 'Dubarry', '_', 'drawing-rooms', 'had', 'begun', 'to', 'display', 'their', '\"', 'Grindles', '.', '\"', 'I', 'turned', 'to', 'Mrs', '.', 'Gisburn', ',', 'who', 'had', 'lingered', 'to', 'give', 'a', 'lump', 'of', 'sugar', 'to', 'her', 'spaniel', 'in', 'the', 'dining-room', '.', '\"', 'Why', '_', 'has', '_', 'he', 'chucked', 'painting', '?', '\"', 'I', 'asked', 'abruptly', '.', 'She', 'raised', 'her', 'eyebrows', 'with', 'a', 'hint', 'of', 'good-humoured', 'surprise', '.', '\"', 'Oh', ',', 'he', 'doesn', \"'\", 't', '_', 'have', '_', 'to', 'now', ',', 'you', 'know', ';', 'and', 'I', 'want', 'him', 'to', 'enjoy', 'himself', ',', '\"', 'she', 'said', 'quite', 'simply', '.', 'I', 'looked', 'about', 'the', 'spacious', 'white-panelled', 'room', ',', 'with', 'its', '_', 'famille-verte', '_', 'vases', 'repeating', 'the', 'tones', 'of', 'the', 'pale', 'damask', 'curtains', ',', 'and', 'its', 'eighteenth-century', 'pastels', 'in', 'delicate', 'faded', 'frames', '.', '\"', 'Has', 'he', 'chucked', 'his', 'pictures', 'too', '?', 'I', 'haven', \"'\", 't', 'seen', 'a', 'single', 'one', 'in', 'the', 'house', '.', '\"', 'A', 'slight', 'shade', 'of', 'constraint', 'crossed', 'Mrs', '.', 'Gisburn', \"'\", 's', 'open', 'countenance', '.', '\"', 'It', \"'\", 's', 'his', 'ridiculous', 'modesty', ',', 'you', 'know', '.', 'He', 'says', 'they', \"'\", 're', 'not', 'fit', 'to', 'have', 'about', ';', 'he', \"'\", 's', 'sent', 'them', 'all', 'away', 'except', 'one', '--', 'my', 'portrait', '--', 'and', 'that', 'I', 'have', 'to', 'keep', 'upstairs', '.', '\"', 'His', 'ridiculous', 'modesty', '--', 'Jack', \"'\", 's', 'modesty', 'about', 'his', 'pictures', '?', 'My', 'curiosity', 'was', 'growing', 'like', 'the', 'bean-stalk', '.', 'I', 'said', 'persuasively', 'to', 'my', 'hostess', ':', '\"', 'I', 'must', 'really', 'see', 'your', 'portrait', ',', 'you', 'know', '.', '\"', 'She', 'glanced', 'out', 'almost', 'timorously', 'at', 'the', 'terrace', 'where', 'her', 'husband', ',', 'lounging', 'in', 'a', 'hooded', 'chair', ',', 'had', 'lit', 'a', 'cigar', 'and', 'drawn', 'the', 'Russian', 'deerhound', \"'\", 's', 'head', 'between', 'his', 'knees', '.', '\"', 'Well', ',', 'come', 'while', 'he', \"'\", 's', 'not', 'looking', ',', '\"', 'she', 'said', ',', 'with', 'a', 'laugh', 'that', 'tried', 'to', 'hide', 'her', 'nervousness', ';', 'and', 'I', 'followed', 'her', 'between', 'the', 'marble', 'Emperors', 'of', 'the', 'hall', ',', 'and', 'up', 'the', 'wide', 'stairs', 'with', 'terra-cotta', 'nymphs', 'poised', 'among', 'flowers', 'at', 'each', 'landing', '.', 'In', 'the', 'dimmest', 'corner', 'of', 'her', 'boudoir', ',', 'amid', 'a', 'profusion', 'of', 'delicate', 'and', 'distinguished', 'objects', ',', 'hung', 'one', 'of', 'the', 'familiar', 'oval', 'canvases', ',', 'in', 'the', 'inevitable', 'garlanded', 'frame', '.', 'The', 'mere', 'outline', 'of', 'the', 'frame', 'called', 'up', 'all', 'Gisburn', \"'\", 's', 'past', '!', 'Mrs', '.', 'Gisburn', 'drew', 'back', 'the', 'window-curtains', ',', 'moved', 'aside', 'a', '_', 'jardiniere', '_', 'full', 'of', 'pink', 'azaleas', ',', 'pushed', 'an', 'arm-chair', 'away', ',', 'and', 'said', ':', '\"', 'If', 'you', 'stand', 'here', 'you', 'can', 'just', 'manage', 'to', 'see', 'it', '.', 'I', 'had', 'it', 'over', 'the', 'mantel-piece', ',', 'but', 'he', 'wouldn', \"'\", 't', 'let', 'it', 'stay', '.', '\"', 'Yes', '--', 'I', 'could', 'just', 'manage', 'to', 'see', 'it', '--', 'the', 'first', 'portrait', 'of', 'Jack', \"'\", 's', 'I', 'had', 'ever', 'had', 'to', 'strain', 'my', 'eyes', 'over', '!', 'Usually', 'they', 'had', 'the', 'place', 'of', 'honour', '--', 'say', 'the', 'central', 'panel', 'in', 'a', 'pale', 'yellow', 'or', '_', 'rose', 'Dubarry', '_', 'drawing-room', ',', 'or', 'a', 'monumental', 'easel', 'placed', 'so', 'that', 'it', 'took', 'the', 'light', 'through', 'curtains', 'of', 'old', 'Venetian', 'point', '.', 'The', 'more', 'modest', 'place', 'became', 'the', 'picture', 'better', ';', 'yet', ',', 'as', 'my', 'eyes', 'grew', 'accustomed', 'to', 'the', 'half-light', ',', 'all', 'the', 'characteristic', 'qualities', 'came', 'out', '--', 'all', 'the', 'hesitations', 'disguised', 'as', 'audacities', ',', 'the', 'tricks', 'of', 'prestidigitation', 'by', 'which', ',', 'with', 'such', 'consummate', 'skill', ',', 'he', 'managed', 'to', 'divert', 'attention', 'from', 'the', 'real', 'business', 'of', 'the', 'picture', 'to', 'some', 'pretty', 'irrelevance', 'of', 'detail', '.', 'Mrs', '.', 'Gisburn', ',', 'presenting', 'a', 'neutral', 'surface', 'to', 'work', 'on', '--', 'forming', ',', 'as', 'it', 'were', ',', 'so', 'inevitably', 'the', 'background', 'of', 'her', 'own', 'picture', '--', 'had', 'lent', 'herself', 'in', 'an', 'unusual', 'degree', 'to', 'the', 'display', 'of', 'this', 'false', 'virtuosity', '.', 'The', 'picture', 'was', 'one', 'of', 'Jack', \"'\", 's', '\"', 'strongest', ',', '\"', 'as', 'his', 'admirers', 'would', 'have', 'put', 'it', '--', 'it', 'represented', ',', 'on', 'his', 'part', ',', 'a', 'swelling', 'of', 'muscles', ',', 'a', 'congesting', 'of', 'veins', ',', 'a', 'balancing', ',', 'straddling', 'and', 'straining', ',', 'that', 'reminded', 'one', 'of', 'the', 'circus-clown', \"'\", 's', 'ironic', 'efforts', 'to', 'lift', 'a', 'feather', '.', 'It', 'met', ',', 'in', 'short', ',', 'at', 'every', 'point', 'the', 'demand', 'of', 'lovely', 'woman', 'to', 'be', 'painted', '\"', 'strongly', '\"', 'because', 'she', 'was', 'tired', 'of', 'being', 'painted', '\"', 'sweetly', '\"', '--', 'and', 'yet', 'not', 'to', 'lose', 'an', 'atom', 'of', 'the', 'sweetness', '.', '\"', 'It', \"'\", 's', 'the', 'last', 'he', 'painted', ',', 'you', 'know', ',', '\"', 'Mrs', '.', 'Gisburn', 'said', 'with', 'pardonable', 'pride', '.', '\"', 'The', 'last', 'but', 'one', ',', '\"', 'she', 'corrected', 'herself', '--', '\"', 'but', 'the', 'other', 'doesn', \"'\", 't', 'count', ',', 'because', 'he', 'destroyed', 'it', '.', '\"', '\"', 'Destroyed', 'it', '?', '\"', 'I', 'was', 'about', 'to', 'follow', 'up', 'this', 'clue', 'when', 'I', 'heard', 'a', 'footstep', 'and', 'saw', 'Jack', 'himself', 'on', 'the', 'threshold', '.', 'As', 'he', 'stood', 'there', ',', 'his', 'hands', 'in', 'the', 'pockets', 'of', 'his', 'velveteen', 'coat', ',', 'the', 'thin', 'brown', 'waves', 'of', 'hair', 'pushed', 'back', 'from', 'his', 'white', 'forehead', ',', 'his', 'lean', 'sunburnt', 'cheeks', 'furrowed', 'by', 'a', 'smile', 'that', 'lifted', 'the', 'tips', 'of', 'a', 'self-confident', 'moustache', ',', 'I', 'felt', 'to', 'what', 'a', 'degree', 'he', 'had', 'the', 'same', 'quality', 'as', 'his', 'pictures', '--', 'the', 'quality', 'of', 'looking', 'cleverer', 'than', 'he', 'was', '.', 'His', 'wife', 'glanced', 'at', 'him', 'deprecatingly', ',', 'but', 'his', 'eyes', 'travelled', 'past', 'her', 'to', 'the', 'portrait', '.', '\"', 'Mr', '.', 'Rickham', 'wanted', 'to', 'see', 'it', ',', '\"', 'she', 'began', ',', 'as', 'if', 'excusing', 'herself', '.', 'He', 'shrugged', 'his', 'shoulders', ',', 'still', 'smiling', '.', '\"', 'Oh', ',', 'Rickham', 'found', 'me', 'out', 'long', 'ago', ',', '\"', 'he', 'said', 'lightly', ';', 'then', ',', 'passing', 'his', 'arm', 'through', 'mine', ':', '\"', 'Come', 'and', 'see', 'the', 'rest', 'of', 'the', 'house', '.', '\"', 'He', 'showed', 'it', 'to', 'me', 'with', 'a', 'kind', 'of', 'naive', 'suburban', 'pride', ':', 'the', 'bath-rooms', ',', 'the', 'speaking-tubes', ',', 'the', 'dress-closets', ',', 'the', 'trouser-presses', '--', 'all', 'the', 'complex', 'simplifications', 'of', 'the', 'millionaire', \"'\", 's', 'domestic', 'economy', '.', 'And', 'whenever', 'my', 'wonder', 'paid', 'the', 'expected', 'tribute', 'he', 'said', ',', 'throwing', 'out', 'his', 'chest', 'a', 'little', ':', '\"', 'Yes', ',', 'I', 'really', 'don', \"'\", 't', 'see', 'how', 'people', 'manage', 'to', 'live', 'without', 'that', '.', '\"', 'Well', '--', 'it', 'was', 'just', 'the', 'end', 'one', 'might', 'have', 'foreseen', 'for', 'him', '.', 'Only', 'he', 'was', ',', 'through', 'it', 'all', 'and', 'in', 'spite', 'of', 'it', 'all', '--', 'as', 'he', 'had', 'been', 'through', ',', 'and', 'in', 'spite', 'of', ',', 'his', 'pictures', '--', 'so', 'handsome', ',', 'so', 'charming', ',', 'so', 'disarming', ',', 'that', 'one', 'longed', 'to', 'cry', 'out', ':', '\"', 'Be', 'dissatisfied', 'with', 'your', 'leisure', '!', '\"', 'as', 'once', 'one', 'had', 'longed', 'to', 'say', ':', '\"', 'Be', 'dissatisfied', 'with', 'your', 'work', '!', '\"', 'But', ',', 'with', 'the', 'cry', 'on', 'my', 'lips', ',', 'my', 'diagnosis', 'suffered', 'an', 'unexpected', 'check', '.', '\"', 'This', 'is', 'my', 'own', 'lair', ',', '\"', 'he', 'said', ',', 'leading', 'me', 'into', 'a', 'dark', 'plain', 'room', 'at', 'the', 'end', 'of', 'the', 'florid', 'vista', '.', 'It', 'was', 'square', 'and', 'brown', 'and', 'leathery', ':', 'no', '\"', 'effects', '\"', ';', 'no', 'bric-a-brac', ',', 'none', 'of', 'the', 'air', 'of', 'posing', 'for', 'reproduction', 'in', 'a', 'picture', 'weekly', '--', 'above', 'all', ',', 'no', 'least', 'sign', 'of', 'ever', 'having', 'been', 'used', 'as', 'a', 'studio', '.', 'The', 'fact', 'brought', 'home', 'to', 'me', 'the', 'absolute', 'finality', 'of', 'Jack', \"'\", 's', 'break', 'with', 'his', 'old', 'life', '.', '\"', 'Don', \"'\", 't', 'you', 'ever', 'dabble', 'with', 'paint', 'any', 'more', '?', '\"', 'I', 'asked', ',', 'still', 'looking', 'about', 'for', 'a', 'trace', 'of', 'such', 'activity', '.', '\"', 'Never', ',', '\"', 'he', 'said', 'briefly', '.', '\"', 'Or', 'water-colour', '--', 'or', 'etching', '?', '\"', 'His', 'confident', 'eyes', 'grew', 'dim', ',', 'and', 'his', 'cheeks', 'paled', 'a', 'little', 'under', 'their', 'handsome', 'sunburn', '.', '\"', 'Never', 'think', 'of', 'it', ',', 'my', 'dear', 'fellow', '--', 'any', 'more', 'than', 'if', 'I', \"'\", 'd', 'never', 'touched', 'a', 'brush', '.', '\"', 'And', 'his', 'tone', 'told', 'me', 'in', 'a', 'flash', 'that', 'he', 'never', 'thought', 'of', 'anything', 'else', '.', 'I', 'moved', 'away', ',', 'instinctively', 'embarrassed', 'by', 'my', 'unexpected', 'discovery', ';', 'and', 'as', 'I', 'turned', ',', 'my', 'eye', 'fell', 'on', 'a', 'small', 'picture', 'above', 'the', 'mantel-piece', '--', 'the', 'only', 'object', 'breaking', 'the', 'plain', 'oak', 'panelling', 'of', 'the', 'room', '.', '\"', 'Oh', ',', 'by', 'Jove', '!', '\"', 'I', 'said', '.', 'It', 'was', 'a', 'sketch', 'of', 'a', 'donkey', '--', 'an', 'old', 'tired', 'donkey', ',', 'standing', 'in', 'the', 'rain', 'under', 'a', 'wall', '.', '\"', 'By', 'Jove', '--', 'a', 'Stroud', '!', '\"', 'I', 'cried', '.', 'He', 'was', 'silent', ';', 'but', 'I', 'felt', 'him', 'close', 'behind', 'me', ',', 'breathing', 'a', 'little', 'quickly', '.', '\"', 'What', 'a', 'wonder', '!', 'Made', 'with', 'a', 'dozen', 'lines', '--', 'but', 'on', 'everlasting', 'foundations', '.', 'You', 'lucky', 'chap', ',', 'where', 'did', 'you', 'get', 'it', '?', '\"', 'He', 'answered', 'slowly', ':', '\"', 'Mrs', '.', 'Stroud', 'gave', 'it', 'to', 'me', '.', '\"', '\"', 'Ah', '--', 'I', 'didn', \"'\", 't', 'know', 'you', 'even', 'knew', 'the', 'Strouds', '.', 'He', 'was', 'such', 'an', 'inflexible', 'hermit', '.', '\"', '\"', 'I', 'didn', \"'\", 't', '--', 'till', 'after', '.', '.', '.', '.', 'She', 'sent', 'for', 'me', 'to', 'paint', 'him', 'when', 'he', 'was', 'dead', '.', '\"', '\"', 'When', 'he', 'was', 'dead', '?', 'You', '?', '\"', 'I', 'must', 'have', 'let', 'a', 'little', 'too', 'much', 'amazement', 'escape', 'through', 'my', 'surprise', ',', 'for', 'he', 'answered', 'with', 'a', 'deprecating', 'laugh', ':', '\"', 'Yes', '--', 'she', \"'\", 's', 'an', 'awful', 'simpleton', ',', 'you', 'know', ',', 'Mrs', '.', 'Stroud', '.', 'Her', 'only', 'idea', 'was', 'to', 'have', 'him', 'done', 'by', 'a', 'fashionable', 'painter', '--', 'ah', ',', 'poor', 'Stroud', '!', 'She', 'thought', 'it', 'the', 'surest', 'way', 'of', 'proclaiming', 'his', 'greatness', '--', 'of', 'forcing', 'it', 'on', 'a', 'purblind', 'public', '.', 'And', 'at', 'the', 'moment', 'I', 'was', '_', 'the', '_', 'fashionable', 'painter', '.', '\"', '\"', 'Ah', ',', 'poor', 'Stroud', '--', 'as', 'you', 'say', '.', 'Was', '_', 'that', '_', 'his', 'history', '?', '\"', '\"', 'That', 'was', 'his', 'history', '.', 'She', 'believed', 'in', 'him', ',', 'gloried', 'in', 'him', '--', 'or', 'thought', 'she', 'did', '.', 'But', 'she', 'couldn', \"'\", 't', 'bear', 'not', 'to', 'have', 'all', 'the', 'drawing-rooms', 'with', 'her', '.', 'She', 'couldn', \"'\", 't', 'bear', 'the', 'fact', 'that', ',', 'on', 'varnishing', 'days', ',', 'one', 'could', 'always', 'get', 'near', 'enough', 'to', 'see', 'his', 'pictures', '.', 'Poor', 'woman', '!', 'She', \"'\", 's', 'just', 'a', 'fragment', 'groping', 'for', 'other', 'fragments', '.', 'Stroud', 'is', 'the', 'only', 'whole', 'I', 'ever', 'knew', '.', '\"', '\"', 'You', 'ever', 'knew', '?', 'But', 'you', 'just', 'said', '--', '\"', 'Gisburn', 'had', 'a', 'curious', 'smile', 'in', 'his', 'eyes', '.', '\"', 'Oh', ',', 'I', 'knew', 'him', ',', 'and', 'he', 'knew', 'me', '--', 'only', 'it', 'happened', 'after', 'he', 'was', 'dead', '.', '\"', 'I', 'dropped', 'my', 'voice', 'instinctively', '.', '\"', 'When', 'she', 'sent', 'for', 'you', '?', '\"', '\"', 'Yes', '--', 'quite', 'insensible', 'to', 'the', 'irony', '.', 'She', 'wanted', 'him', 'vindicated', '--', 'and', 'by', 'me', '!', '\"', 'He', 'laughed', 'again', ',', 'and', 'threw', 'back', 'his', 'head', 'to', 'look', 'up', 'at', 'the', 'sketch', 'of', 'the', 'donkey', '.', '\"', 'There', 'were', 'days', 'when', 'I', 'couldn', \"'\", 't', 'look', 'at', 'that', 'thing', '--', 'couldn', \"'\", 't', 'face', 'it', '.', 'But', 'I', 'forced', 'myself', 'to', 'put', 'it', 'here', ';', 'and', 'now', 'it', \"'\", 's', 'cured', 'me', '--', 'cured', 'me', '.', 'That', \"'\", 's', 'the', 'reason', 'why', 'I', 'don', \"'\", 't', 'dabble', 'any', 'more', ',', 'my', 'dear', 'Rickham', ';', 'or', 'rather', 'Stroud', 'himself', 'is', 'the', 'reason', '.', '\"', 'For', 'the', 'first', 'time', 'my', 'idle', 'curiosity', 'about', 'my', 'companion', 'turned', 'into', 'a', 'serious', 'desire', 'to', 'understand', 'him', 'better', '.', '\"', 'I', 'wish', 'you', \"'\", 'd', 'tell', 'me', 'how', 'it', 'happened', ',', '\"', 'I', 'said', '.', 'He', 'stood', 'looking', 'up', 'at', 'the', 'sketch', ',', 'and', 'twirling', 'between', 'his', 'fingers', 'a', 'cigarette', 'he', 'had', 'forgotten', 'to', 'light', '.', 'Suddenly', 'he', 'turned', 'toward', 'me', '.', '\"', 'I', \"'\", 'd', 'rather', 'like', 'to', 'tell', 'you', '--', 'because', 'I', \"'\", 've', 'always', 'suspected', 'you', 'of', 'loathing', 'my', 'work', '.', '\"', 'I', 'made', 'a', 'deprecating', 'gesture', ',', 'which', 'he', 'negatived', 'with', 'a', 'good-humoured', 'shrug', '.', '\"', 'Oh', ',', 'I', 'didn', \"'\", 't', 'care', 'a', 'straw', 'when', 'I', 'believed', 'in', 'myself', '--', 'and', 'now', 'it', \"'\", 's', 'an', 'added', 'tie', 'between', 'us', '!', '\"', 'He', 'laughed', 'slightly', ',', 'without', 'bitterness', ',', 'and', 'pushed', 'one', 'of', 'the', 'deep', 'arm-chairs', 'forward', '.', '\"', 'There', ':', 'make', 'yourself', 'comfortable', '--', 'and', 'here', 'are', 'the', 'cigars', 'you', 'like', '.', '\"', 'He', 'placed', 'them', 'at', 'my', 'elbow', 'and', 'continued', 'to', 'wander', 'up', 'and', 'down', 'the', 'room', ',', 'stopping', 'now', 'and', 'then', 'beneath', 'the', 'picture', '.', '\"', 'How', 'it', 'happened', '?', 'I', 'can', 'tell', 'you', 'in', 'five', 'minutes', '--', 'and', 'it', 'didn', \"'\", 't', 'take', 'much', 'longer', 'to', 'happen', '.', '.', '.', '.', 'I', 'can', 'remember', 'now', 'how', 'surprised', 'and', 'pleased', 'I', 'was', 'when', 'I', 'got', 'Mrs', '.', 'Stroud', \"'\", 's', 'note', '.', 'Of', 'course', ',', 'deep', 'down', ',', 'I', 'had', 'always', '_', 'felt', '_', 'there', 'was', 'no', 'one', 'like', 'him', '--', 'only', 'I', 'had', 'gone', 'with', 'the', 'stream', ',', 'echoed', 'the', 'usual', 'platitudes', 'about', 'him', ',', 'till', 'I', 'half', 'got', 'to', 'think', 'he', 'was', 'a', 'failure', ',', 'one', 'of', 'the', 'kind', 'that', 'are', 'left', 'behind', '.', 'By', 'Jove', ',', 'and', 'he', '_', 'was', '_', 'left', 'behind', '--', 'because', 'he', 'had', 'come', 'to', 'stay', '!', 'The', 'rest', 'of', 'us', 'had', 'to', 'let', 'ourselves', 'be', 'swept', 'along', 'or', 'go', 'under', ',', 'but', 'he', 'was', 'high', 'above', 'the', 'current', '--', 'on', 'everlasting', 'foundations', ',', 'as', 'you', 'say', '.', '\"', 'Well', ',', 'I', 'went', 'off', 'to', 'the', 'house', 'in', 'my', 'most', 'egregious', 'mood', '--', 'rather', 'moved', ',', 'Lord', 'forgive', 'me', ',', 'at', 'the', 'pathos', 'of', 'poor', 'Stroud', \"'\", 's', 'career', 'of', 'failure', 'being', 'crowned', 'by', 'the', 'glory', 'of', 'my', 'painting', 'him', '!', 'Of', 'course', 'I', 'meant', 'to', 'do', 'the', 'picture', 'for', 'nothing', '--', 'I', 'told', 'Mrs', '.', 'Stroud', 'so', 'when', 'she', 'began', 'to', 'stammer', 'something', 'about', 'her', 'poverty', '.', 'I', 'remember', 'getting', 'off', 'a', 'prodigious', 'phrase', 'about', 'the', 'honour', 'being', '_', 'mine', '_', '--', 'oh', ',', 'I', 'was', 'princely', ',', 'my', 'dear', 'Rickham', '!', 'I', 'was', 'posing', 'to', 'myself', 'like', 'one', 'of', 'my', 'own', 'sitters', '.', '\"', 'Then', 'I', 'was', 'taken', 'up', 'and', 'left', 'alone', 'with', 'him', '.', 'I', 'had', 'sent', 'all', 'my', 'traps', 'in', 'advance', ',', 'and', 'I', 'had', 'only', 'to', 'set', 'up', 'the', 'easel', 'and', 'get', 'to', 'work', '.', 'He', 'had', 'been', 'dead', 'only', 'twenty-four', 'hours', ',', 'and', 'he', 'died', 'suddenly', ',', 'of', 'heart', 'disease', ',', 'so', 'that', 'there', 'had', 'been', 'no', 'preliminary', 'work', 'of', 'destruction', '--', 'his', 'face', 'was', 'clear', 'and', 'untouched', '.', 'I', 'had', 'met', 'him', 'once', 'or', 'twice', ',', 'years', 'before', ',', 'and', 'thought', 'him', 'insignificant', 'and', 'dingy', '.', 'Now', 'I', 'saw', 'that', 'he', 'was', 'superb', '.', '\"', 'I', 'was', 'glad', 'at', 'first', ',', 'with', 'a', 'merely', 'aesthetic', 'satisfaction', ':', 'glad', 'to', 'have', 'my', 'hand', 'on', 'such', 'a', \"'\", 'subject', '.', \"'\", 'Then', 'his', 'strange', 'life-likeness', 'began', 'to', 'affect', 'me', 'queerly', '--', 'as', 'I', 'blocked', 'the', 'head', 'in', 'I', 'felt', 'as', 'if', 'he', 'were', 'watching', 'me', 'do', 'it', '.', 'The', 'sensation', 'was', 'followed', 'by', 'the', 'thought', ':', 'if', 'he', '_', 'were', '_', 'watching', 'me', ',', 'what', 'would', 'he', 'say', 'to', 'my', 'way', 'of', 'working', '?', 'My', 'strokes', 'began', 'to', 'go', 'a', 'little', 'wild', '--', 'I', 'felt', 'nervous', 'and', 'uncertain', '.', '\"', 'Once', ',', 'when', 'I', 'looked', 'up', ',', 'I', 'seemed', 'to', 'see', 'a', 'smile', 'behind', 'his', 'close', 'grayish', 'beard', '--', 'as', 'if', 'he', 'had', 'the', 'secret', ',', 'and', 'were', 'amusing', 'himself', 'by', 'holding', 'it', 'back', 'from', 'me', '.', 'That', 'exasperated', 'me', 'still', 'more', '.', 'The', 'secret', '?', 'Why', ',', 'I', 'had', 'a', 'secret', 'worth', 'twenty', 'of', 'his', '!', 'I', 'dashed', 'at', 'the', 'canvas', 'furiously', ',', 'and', 'tried', 'some', 'of', 'my', 'bravura', 'tricks', '.', 'But', 'they', 'failed', 'me', ',', 'they', 'crumbled', '.', 'I', 'saw', 'that', 'he', 'wasn', \"'\", 't', 'watching', 'the', 'showy', 'bits', '--', 'I', 'couldn', \"'\", 't', 'distract', 'his', 'attention', ';', 'he', 'just', 'kept', 'his', 'eyes', 'on', 'the', 'hard', 'passages', 'between', '.', 'Those', 'were', 'the', 'ones', 'I', 'had', 'always', 'shirked', ',', 'or', 'covered', 'up', 'with', 'some', 'lying', 'paint', '.', 'And', 'how', 'he', 'saw', 'through', 'my', 'lies', '!', '\"', 'I', 'looked', 'up', 'again', ',', 'and', 'caught', 'sight', 'of', 'that', 'sketch', 'of', 'the', 'donkey', 'hanging', 'on', 'the', 'wall', 'near', 'his', 'bed', '.', 'His', 'wife', 'told', 'me', 'afterward', 'it', 'was', 'the', 'last', 'thing', 'he', 'had', 'done', '--', 'just', 'a', 'note', 'taken', 'with', 'a', 'shaking', 'hand', ',', 'when', 'he', 'was', 'down', 'in', 'Devonshire', 'recovering', 'from', 'a', 'previous', 'heart', 'attack', '.', 'Just', 'a', 'note', '!', 'But', 'it', 'tells', 'his', 'whole', 'history', '.', 'There', 'are', 'years', 'of', 'patient', 'scornful', 'persistence', 'in', 'every', 'line', '.', 'A', 'man', 'who', 'had', 'swum', 'with', 'the', 'current', 'could', 'never', 'have', 'learned', 'that', 'mighty', 'up-stream', 'stroke', '.', '.', '.', '.', '\"', 'I', 'turned', 'back', 'to', 'my', 'work', ',', 'and', 'went', 'on', 'groping', 'and', 'muddling', ';', 'then', 'I', 'looked', 'at', 'the', 'donkey', 'again', '.', 'I', 'saw', 'that', ',', 'when', 'Stroud', 'laid', 'in', 'the', 'first', 'stroke', ',', 'he', 'knew', 'just', 'what', 'the', 'end', 'would', 'be', '.', 'He', 'had', 'possessed', 'his', 'subject', ',', 'absorbed', 'it', ',', 'recreated', 'it', '.', 'When', 'had', 'I', 'done', 'that', 'with', 'any', 'of', 'my', 'things', '?', 'They', 'hadn', \"'\", 't', 'been', 'born', 'of', 'me', '--', 'I', 'had', 'just', 'adopted', 'them', '.', '.', '.', '.', '\"', 'Hang', 'it', ',', 'Rickham', ',', 'with', 'that', 'face', 'watching', 'me', 'I', 'couldn', \"'\", 't', 'do', 'another', 'stroke', '.', 'The', 'plain', 'truth', 'was', ',', 'I', 'didn', \"'\", 't', 'know', 'where', 'to', 'put', 'it', '--', '_', 'I', 'had', 'never', 'known', '_', '.', 'Only', ',', 'with', 'my', 'sitters', 'and', 'my', 'public', ',', 'a', 'showy', 'splash', 'of', 'colour', 'covered', 'up', 'the', 'fact', '--', 'I', 'just', 'threw', 'paint', 'into', 'their', 'faces', '.', '.', '.', '.', 'Well', ',', 'paint', 'was', 'the', 'one', 'medium', 'those', 'dead', 'eyes', 'could', 'see', 'through', '--', 'see', 'straight', 'to', 'the', 'tottering', 'foundations', 'underneath', '.', 'Don', \"'\", 't', 'you', 'know', 'how', ',', 'in', 'talking', 'a', 'foreign', 'language', ',', 'even', 'fluently', ',', 'one', 'says', 'half', 'the', 'time', 'not', 'what', 'one', 'wants', 'to', 'but', 'what', 'one', 'can', '?', 'Well', '--', 'that', 'was', 'the', 'way', 'I', 'painted', ';', 'and', 'as', 'he', 'lay', 'there', 'and', 'watched', 'me', ',', 'the', 'thing', 'they', 'called', 'my', \"'\", 'technique', \"'\", 'collapsed', 'like', 'a', 'house', 'of', 'cards', '.', 'He', 'didn', \"'\", 't', 'sneer', ',', 'you', 'understand', ',', 'poor', 'Stroud', '--', 'he', 'just', 'lay', 'there', 'quietly', 'watching', ',', 'and', 'on', 'his', 'lips', ',', 'through', 'the', 'gray', 'beard', ',', 'I', 'seemed', 'to', 'hear', 'the', 'question', ':', \"'\", 'Are', 'you', 'sure', 'you', 'know', 'where', 'you', \"'\", 're', 'coming', 'out', '?', \"'\", '\"', 'If', 'I', 'could', 'have', 'painted', 'that', 'face', ',', 'with', 'that', 'question', 'on', 'it', ',', 'I', 'should', 'have', 'done', 'a', 'great', 'thing', '.', 'The', 'next', 'greatest', 'thing', 'was', 'to', 'see', 'that', 'I', 'couldn', \"'\", 't', '--', 'and', 'that', 'grace', 'was', 'given', 'me', '.', 'But', ',', 'oh', ',', 'at', 'that', 'minute', ',', 'Rickham', ',', 'was', 'there', 'anything', 'on', 'earth', 'I', 'wouldn', \"'\", 't', 'have', 'given', 'to', 'have', 'Stroud', 'alive', 'before', 'me', ',', 'and', 'to', 'hear', 'him', 'say', ':', \"'\", 'It', \"'\", 's', 'not', 'too', 'late', '--', 'I', \"'\", 'll', 'show', 'you', 'how', \"'\", '?', '\"', 'It', '_', 'was', '_', 'too', 'late', '--', 'it', 'would', 'have', 'been', ',', 'even', 'if', 'he', \"'\", 'd', 'been', 'alive', '.', 'I', 'packed', 'up', 'my', 'traps', ',', 'and', 'went', 'down', 'and', 'told', 'Mrs', '.', 'Stroud', '.', 'Of', 'course', 'I', 'didn', \"'\", 't', 'tell', 'her', '_', 'that', '_', '--', 'it', 'would', 'have', 'been', 'Greek', 'to', 'her', '.', 'I', 'simply', 'said', 'I', 'couldn', \"'\", 't', 'paint', 'him', ',', 'that', 'I', 'was', 'too', 'moved', '.', 'She', 'rather', 'liked', 'the', 'idea', '--', 'she', \"'\", 's', 'so', 'romantic', '!', 'It', 'was', 'that', 'that', 'made', 'her', 'give', 'me', 'the', 'donkey', '.', 'But', 'she', 'was', 'terribly', 'upset', 'at', 'not', 'getting', 'the', 'portrait', '--', 'she', 'did', 'so', 'want', 'him', \"'\", 'done', \"'\", 'by', 'some', 'one', 'showy', '!', 'At', 'first', 'I', 'was', 'afraid', 'she', 'wouldn', \"'\", 't', 'let', 'me', 'off', '--', 'and', 'at', 'my', 'wits', \"'\", 'end', 'I', 'suggested', 'Grindle', '.', 'Yes', ',', 'it', 'was', 'I', 'who', 'started', 'Grindle', ':', 'I', 'told', 'Mrs', '.', 'Stroud', 'he', 'was', 'the', \"'\", 'coming', \"'\", 'man', ',', 'and', 'she', 'told', 'somebody', 'else', ',', 'and', 'so', 'it', 'got', 'to', 'be', 'true', '.', '.', '.', '.', 'And', 'he', 'painted', 'Stroud', 'without', 'wincing', ';', 'and', 'she', 'hung', 'the', 'picture', 'among', 'her', 'husband', \"'\", 's', 'things', '.', '.', '.', '.', '\"', 'He', 'flung', 'himself', 'down', 'in', 'the', 'arm-chair', 'near', 'mine', ',', 'laid', 'back', 'his', 'head', ',', 'and', 'clasping', 'his', 'arms', 'beneath', 'it', ',', 'looked', 'up', 'at', 'the', 'picture', 'above', 'the', 'chimney-piece', '.', '\"', 'I', 'like', 'to', 'fancy', 'that', 'Stroud', 'himself', 'would', 'have', 'given', 'it', 'to', 'me', ',', 'if', 'he', \"'\", 'd', 'been', 'able', 'to', 'say', 'what', 'he', 'thought', 'that', 'day', '.', '\"', 'And', ',', 'in', 'answer', 'to', 'a', 'question', 'I', 'put', 'half-mechanically', '--', '\"', 'Begin', 'again', '?', '\"', 'he', 'flashed', 'out', '.', '\"', 'When', 'the', 'one', 'thing', 'that', 'brings', 'me', 'anywhere', 'near', 'him', 'is', 'that', 'I', 'knew', 'enough', 'to', 'leave', 'off', '?', '\"', 'He', 'stood', 'up', 'and', 'laid', 'his', 'hand', 'on', 'my', 'shoulder', 'with', 'a', 'laugh', '.', '\"', 'Only', 'the', 'irony', 'of', 'it', 'is', 'that', 'I', '_', 'am', '_', 'still', 'painting', '--', 'since', 'Grindle', \"'\", 's', 'doing', 'it', 'for', 'me', '!', 'The', 'Strouds', 'stand', 'alone', ',', 'and', 'happen', 'once', '--', 'but', 'there', \"'\", 's', 'no', 'exterminating', 'our', 'kind', 'of', 'art', '.', '\"']\n"
     ]
    }
   ],
   "source": [
    "# Remove all punctuation and white space\n",
    "# Regular expression supplied by the video\n",
    "the_verdict_tokens = re.split(r'([,.:;?_!\"()\\']|--|\\s)', the_verdict_raw_text)\n",
    "print(the_verdict_tokens)\n",
    "the_verdict_tokens = [token for token in the_verdict_tokens if token.strip()]\n",
    "print(the_verdict_tokens)"
   ]
  },
  {
   "cell_type": "markdown",
   "id": "045603fc",
   "metadata": {},
   "source": [
    "#### Create a Vocabulary out the words in 'The Verdict'\n",
    "#### Assign them each a Unique Token Id"
   ]
  },
  {
   "cell_type": "code",
   "execution_count": 5,
   "id": "8771f625",
   "metadata": {},
   "outputs": [],
   "source": [
    "all_words = sorted(set(the_verdict_tokens)) # Get only unique tokens, and sort them alphabetically\n",
    "vocabulary_size = len(all_words)\n",
    "\n",
    "# Go over every token and assign them a unique token id using enumerate\n",
    "token_to_id_mapping = {token:token_id for token_id, token in enumerate(all_words)} "
   ]
  },
  {
   "cell_type": "markdown",
   "id": "f602db8d",
   "metadata": {},
   "source": [
    "#### Create your own version of the Version One Tokenizer\n",
    "To Note:\n",
    "* It can take in a sample text in \\_\\_init\\_\\_(...)\n",
    "* It can then create a mapping dictionary from tokens to ids using the \\_\\_init\\_\\_(...) function\n",
    "* For the function encode_text(...), it can use the token to ids mapping dictionary to take in a string containing a sentence, and then output a list of integer ids\n",
    "* For the function decode_ids(...), it can use the token to ids mapping dictionary to take in a list of ids encoding a sentence, and then output the corresponding list of tokens. You can also specify a parameter to output the sentence as a string."
   ]
  },
  {
   "cell_type": "code",
   "execution_count": 6,
   "id": "3ef7e75e",
   "metadata": {},
   "outputs": [],
   "source": [
    "class TokenizerV1:\n",
    "  \"\"\"\n",
    "  Version 1 of a class used to tokenize texts.\n",
    "\n",
    "  Tokenization is the act of breaking down a text into significant individual units called 'tokens'.\n",
    "  \"\"\"\n",
    "  def __init__(self, source_text: str):\n",
    "    \"\"\"\n",
    "    Args:\n",
    "      sample_text: str - Contains the source text we are going to use to create our vocabulary\n",
    "    \n",
    "    Creates:\n",
    "      self.token_to_token_id_mapping: Dict[str, int] - Maps from token to token id\n",
    "      self.token_id_to_token_mapping: Dict[int, str] - Maps from token id to token\n",
    "    \"\"\"\n",
    "    # Split the text based on punctuation or whitespace.\n",
    "    text_tokens_with_whitespace = re.split(r'([,.:;?_!\"()\\']|--|\\s)', source_text)\n",
    "\n",
    "    # Remove all white space tokens, leaving just word and punctuation as tokens.\n",
    "    text_tokens = [token for token in text_tokens_with_whitespace if token.strip()]\n",
    "\n",
    "    # Sort all unique tokens\n",
    "    sorted_unique_tokens = sorted(set(text_tokens))\n",
    "    \n",
    "    self.token_to_token_id_mapping = {token:token_id for token_id, token in enumerate(sorted_unique_tokens)}\n",
    "    self.token_id_to_token_mapping = {token_id:token for token,token_id in self.token_to_token_id_mapping.items()}\n",
    "  \n",
    "  def encode_tokens(self, list_of_tokens: List[str]) -> List[int]:\n",
    "    \"\"\"\n",
    "    Returns a new list of token ids that correspond to the input list of tokens.\n",
    "\n",
    "    Args:\n",
    "      list_of_tokens: List[str] - List of tokens\n",
    "    \n",
    "    Returns:\n",
    "      list_of_token_ids: List[int] - The corresponding list of token ids to the list of tokens\n",
    "    \"\"\"\n",
    "    list_of_token_ids = []\n",
    "    for token in list_of_tokens:\n",
    "      if token not in self.token_to_token_id_mapping:\n",
    "        list_of_token_ids.append(-1)\n",
    "      else:\n",
    "        list_of_token_ids.append(self.token_to_token_id_mapping[token])\n",
    "    \n",
    "    return list_of_token_ids\n",
    "\n",
    "  def decode_token_ids(self, list_of_token_ids: List[int]) -> List[str]:\n",
    "    \"\"\"\n",
    "    Returns a new list of tokens that correspond to the input list of token ids.\n",
    "\n",
    "    Args:\n",
    "      list_of_token_ids: List[int] - List of token ids\n",
    "    \n",
    "    Returns:\n",
    "      list_of_tokens: List[str] - The corresponding list of tokens to the list of token ids\n",
    "    \"\"\"\n",
    "    list_of_tokens = []\n",
    "    for token_id in list_of_token_ids:\n",
    "      if token_id not in self.token_id_to_token_mapping:\n",
    "        list_of_tokens.append(\"<unknown>\")\n",
    "      else:\n",
    "        list_of_tokens.append(self.token_id_to_token_mapping[token_id])\n",
    "    \n",
    "    return list_of_tokens\n",
    "    "
   ]
  },
  {
   "cell_type": "code",
   "execution_count": 7,
   "id": "b346c3c7",
   "metadata": {},
   "outputs": [
    {
     "name": "stdout",
     "output_type": "stream",
     "text": [
      "['I', 'HAD', 'always', 'thought', 'Jack', 'Gisburn', 'rather', 'a', 'cheap', 'genius', '--', 'though', 'a', 'good', 'fellow', 'enough', '--']\n",
      "[53, 44, 149, 1003, 57, 38, 818, 115, 256, 486, 6, 1002, 115, 500, 435, 392, 6]\n",
      "['I', 'HAD', 'always', 'thought', 'Jack', 'Gisburn', 'rather', 'a', 'cheap', 'genius', '--', 'though', 'a', 'good', 'fellow', 'enough', '--']\n"
     ]
    }
   ],
   "source": [
    "# Client Use Case for the TokenizerV1 Class\n",
    "\n",
    "tokenizer = TokenizerV1(the_verdict_raw_text)\n",
    "origin_text_tokenized = the_verdict_tokens[:17]\n",
    "token_ids = tokenizer.encode_tokens(origin_text_tokenized[:17])\n",
    "print(origin_text_tokenized)\n",
    "print(token_ids)\n",
    "token_ids_converted_to_tokens = tokenizer.decode_token_ids(token_ids)\n",
    "print(token_ids_converted_to_tokens)"
   ]
  },
  {
   "cell_type": "code",
   "execution_count": 8,
   "id": "1d6b3f91",
   "metadata": {},
   "outputs": [],
   "source": [
    "# Exercise: Create byte pair algorithm. This will occur later in the video\n",
    "# Maybe let's not do this? It's not hard to grasp, but a decent amount of work.\n",
    "# Let's stick to more LLM-centered stuff."
   ]
  },
  {
   "cell_type": "markdown",
   "id": "13a1a869",
   "metadata": {},
   "source": [
    "#### Use Byte Pair Encoding Through A Third Party Library\n",
    "##### Through Byte Pair Encoding, if you're given an unknown word, the algorithm will be able to find and tokenize known words that may occur within the larger unknown word. All other unkown words will be broken down and tokenized into their individual characters.\n",
    "\n",
    "For example, 'asfartestdfsdjumpsiwe' will get tokenized as ['as', 'far', 'test', 'd', 'f', 's', 'd', 'jump', 's', 'i', 'w', 'e']"
   ]
  },
  {
   "cell_type": "code",
   "execution_count": 9,
   "id": "101c6b59",
   "metadata": {},
   "outputs": [],
   "source": [
    "import tiktoken\n",
    "\n",
    "gpt2_tokenizer = tiktoken.get_encoding(\"gpt2\") # gets the gpt2 tokenizer\n",
    "#encoded = gpt2_tokenizer.encode(\"parrot\")\n",
    "#print(encoded)\n",
    "#print(gpt2_tokenizer.decode(encoded))"
   ]
  },
  {
   "cell_type": "markdown",
   "id": "2b5646b0",
   "metadata": {},
   "source": [
    "#### Sliding window to provide LLMs data\n",
    "\n",
    "When training LLMs, labels are given to you by the input text yourself. Simply cover some section of a sentence, and the next word following that sentence fragment is your label. \n",
    "\n",
    "However, in training LLMs, we cannot give the model all the tokens at once. How do we make this more efficient? With a sliding window that gives the LLM some chunk of tokens at a time."
   ]
  },
  {
   "cell_type": "code",
   "execution_count": 10,
   "id": "60f69578",
   "metadata": {},
   "outputs": [
    {
     "name": "stdout",
     "output_type": "stream",
     "text": [
      "50257\n",
      "5145\n"
     ]
    }
   ],
   "source": [
    "# Use the gpt2 tokenizer to encode the raw text from 'The Verdict'\n",
    "\n",
    "with open(\"data/the-verdict.txt\", \"r\") as the_verdict_file_for_gpt2_tokenizer:\n",
    "  the_verdict_raw_text_for_gpt2_tokenizer = the_verdict_file_for_gpt2_tokenizer.read() # Read in text from 'The Verdict'\n",
    "\n",
    "# Encode 'The Verdict' raw text using gpt2 tokenizer\n",
    "encoded_verdict_raw_text_from_gpt2_tokenizer = gpt2_tokenizer.encode(the_verdict_raw_text)\n",
    "print(gpt2_tokenizer.n_vocab)\n",
    "\n",
    "# Get all token ids, of 'The Verdict' text, starting from the 100th token.\n",
    "truncated_verdict_token_ids_gpt2_tokenizer = encoded_verdict_raw_text_from_gpt2_tokenizer\n",
    "print(len(truncated_verdict_token_ids_gpt2_tokenizer))"
   ]
  },
  {
   "cell_type": "markdown",
   "id": "4c27c0d5",
   "metadata": {},
   "source": [
    "#### Use PyTorch to use their Dataloaders - very useful"
   ]
  },
  {
   "cell_type": "code",
   "execution_count": 11,
   "id": "dc79bf57",
   "metadata": {},
   "outputs": [
    {
     "name": "stdout",
     "output_type": "stream",
     "text": [
      "2.7.1\n"
     ]
    }
   ],
   "source": [
    "import torch\n",
    "print(torch.__version__)\n",
    "\n",
    "# Number of tokens we want to consider when training to predict next tokens\n",
    "context_size = 4 "
   ]
  },
  {
   "cell_type": "markdown",
   "id": "92bd474b",
   "metadata": {},
   "source": [
    "#### Dataset Class to enable usage of Pytorch Dataloaders\n",
    "##### Just copied it directly from the video because making this from scratch seems tedious"
   ]
  },
  {
   "cell_type": "code",
   "execution_count": 12,
   "id": "bdca551b",
   "metadata": {},
   "outputs": [],
   "source": [
    "from torch.utils.data import Dataset, DataLoader\n",
    "\n",
    "class GPTDatasetV1 (Dataset):\n",
    "  def __init__(self, txt, tokenizer, max_length : int, stride: int):\n",
    "    self.input_ids = []\n",
    "    self.target_ids = []\n",
    "\n",
    "    # Tokenize the entire text\n",
    "    token_ids = tokenizer.encode(txt, allowed_special={\"<|endoftext|>\"})\n",
    "    \n",
    "    # Use a sliding window to chunk the book into overlapping sequences of max_length\n",
    "    for i in range(0, len(token_ids) - max_length, stride):\n",
    "\n",
    "      # Get input chunk\n",
    "      input_chunk = token_ids[i:i + max_length]\n",
    "\n",
    "      # Get target chunk, which is just the input chunk, but slid over one position forward.\n",
    "      target_chunk = token_ids [i + 1: i + max_length + 1]\n",
    "\n",
    "      # Append to appropriate instance fields\n",
    "      self.input_ids.append(torch.tensor(input_chunk))\n",
    "      self.target_ids.append(torch.tensor(target_chunk))\n",
    "    \n",
    "  def __len__(self):\n",
    "    return len(self.input_ids)\n",
    "    \n",
    "  def __getitem__(self, idx):\n",
    "    return self.input_ids[idx], self.target_ids[idx]\n",
    "\n",
    "\n",
    "\"\"\"\n",
    "Type out the Dataloader class definition!\n",
    "\"\"\"\n",
    "\n",
    "def create_dataloader_v1(txt, batch_size=4, max_length=256, stride=128, shuffle=True, drop_last=True, num_workers=0):\n",
    "\n",
    "  # Initialize the GPT-2 tokenizer\n",
    "  tokenizer = tiktoken.get_encoding(\"gpt2\")\n",
    "  \n",
    "  # Create dataset\n",
    "  dataset = GPTDatasetV1(txt, tokenizer, max_length, stride)\n",
    "  \n",
    "  # Create dataloader\n",
    "  dataloader = DataLoader(\n",
    "    dataset, \n",
    "    batch_size=batch_size, \n",
    "    shuffle=shuffle, \n",
    "    drop_last=drop_last,\n",
    "    num_workers=num_workers\n",
    "    )\n",
    "\n",
    "  return dataloader"
   ]
  },
  {
   "cell_type": "code",
   "execution_count": 13,
   "id": "0f7d466a",
   "metadata": {},
   "outputs": [],
   "source": [
    "# Getting the data again.\n",
    "with open(\"data/the-verdict.txt\", \"r\") as the_verdict_file_for_gpt2_tokenizer:\n",
    "  the_verdict_raw_text_for_gpt2_tokenizer = the_verdict_file_for_gpt2_tokenizer.read() # Read in text from 'The Verdict'\n"
   ]
  },
  {
   "cell_type": "code",
   "execution_count": 14,
   "id": "37c893eb",
   "metadata": {},
   "outputs": [
    {
     "name": "stdout",
     "output_type": "stream",
     "text": [
      "Inputs: tensor([[   40,   367,  2885,  1464],\n",
      "        [ 1807,  3619,   402,   271],\n",
      "        [10899,  2138,   257,  7026],\n",
      "        [15632,   438,  2016,   257],\n",
      "        [  922,  5891,  1576,   438],\n",
      "        [  568,   340,   373,   645],\n",
      "        [ 1049,  5975,   284,   502],\n",
      "        [  284,  3285,   326,    11]])\n",
      "Labels: tensor([[  367,  2885,  1464,  1807],\n",
      "        [ 3619,   402,   271, 10899],\n",
      "        [ 2138,   257,  7026, 15632],\n",
      "        [  438,  2016,   257,   922],\n",
      "        [ 5891,  1576,   438,   568],\n",
      "        [  340,   373,   645,  1049],\n",
      "        [ 5975,   284,   502,   284],\n",
      "        [ 3285,   326,    11,   287]])\n"
     ]
    }
   ],
   "source": [
    "# Examples of using the dataloader\n",
    "# We'll use the dataloader later. We just made it now just to have it for now.\n",
    "\n",
    "dataloader = create_dataloader_v1(the_verdict_raw_text_for_gpt2_tokenizer, batch_size=8, max_length=4, stride=4, shuffle=False)\n",
    "data_iterator = iter(dataloader)\n",
    "inputs, labels = next(data_iterator)\n",
    "print(\"Inputs:\",inputs)\n",
    "print(\"Labels:\",labels)"
   ]
  },
  {
   "cell_type": "markdown",
   "id": "36234614",
   "metadata": {},
   "source": [
    "#### Handling Embeddings\n",
    "##### Embeddings are a concept that converts tokens into vectors of numbers that can be more easily processed by Neural Networks. Embedding Layers take in any word from your vocabulary and output a vector of numbers that represent that word. Words that are close in meaning should have similar embedding vectors. Words that are farther apart in meaning should have more different embedding vectors."
   ]
  },
  {
   "cell_type": "code",
   "execution_count": 15,
   "id": "6cdaad0e",
   "metadata": {},
   "outputs": [],
   "source": [
    "import torch\n",
    "vocab_size = gpt2_tokenizer.n_vocab\n",
    "output_dim = 3\n",
    "\n",
    "\n",
    "# Create an embedding layer mapping from vocab size one hot encoding vectors to embedding vectors\n",
    "embedding_layer = torch.nn.Embedding(vocab_size, output_dim)"
   ]
  },
  {
   "cell_type": "code",
   "execution_count": 16,
   "id": "7a5732c3",
   "metadata": {},
   "outputs": [
    {
     "name": "stdout",
     "output_type": "stream",
     "text": [
      "Parameter containing:\n",
      "tensor([[-0.5390, -1.5060, -0.1680],\n",
      "        [ 0.1446,  0.5073,  0.9506],\n",
      "        [ 1.4607,  0.5258, -0.4856],\n",
      "        ...,\n",
      "        [ 1.4241,  2.3658,  0.4780],\n",
      "        [-1.0567,  2.0059, -0.2979],\n",
      "        [-0.7015, -0.0934,  0.2091]], requires_grad=True)\n",
      "tensor([[ 0.1446,  0.5073,  0.9506],\n",
      "        [ 1.4607,  0.5258, -0.4856],\n",
      "        [ 2.5969, -0.2028,  1.3335]], grad_fn=<EmbeddingBackward0>)\n"
     ]
    }
   ],
   "source": [
    "input_ids = torch.Tensor([1, 2, 3]).to(dtype=torch.int32)\n",
    "\n",
    "# When you call the embeddings layer with the current input ids for the text you\n",
    "# have, you pull out the appropriate weight matrix rows (or embeddings) from the embeddings layer's\n",
    "# weight matrix. We'll train the embeddings layer to optimize for the next word we predict.\n",
    "print(embedding_layer.weight)\n",
    "print(embedding_layer(input_ids))"
   ]
  },
  {
   "cell_type": "markdown",
   "id": "55e241fe",
   "metadata": {},
   "source": [
    "#### Position Encodings for Words"
   ]
  },
  {
   "cell_type": "code",
   "execution_count": 17,
   "id": "157dc71e",
   "metadata": {},
   "outputs": [
    {
     "name": "stdout",
     "output_type": "stream",
     "text": [
      "torch.Size([50257, 256])\n"
     ]
    }
   ],
   "source": [
    "# Create an embedding layer to go from token to positional information.\n",
    "vocab_size = gpt2_tokenizer.n_vocab # 50257 # Number of embeddings dimension\n",
    "output_dim = 256 # More realistic embedding vector dimension than the 3 we had \n",
    "                 # for illustrative purposes.\n",
    "\n",
    "\n",
    "# First dimension: How many total different tokens we can have an embedding vector for.\n",
    "# Second dimension: How many elements exist in each embedding vector.\n",
    "token_embedding_layer = torch.nn.Embedding(vocab_size, output_dim)\n",
    "print(token_embedding_layer.weight.shape)"
   ]
  },
  {
   "cell_type": "code",
   "execution_count": 18,
   "id": "84b05257",
   "metadata": {},
   "outputs": [
    {
     "name": "stdout",
     "output_type": "stream",
     "text": [
      "tensor([ 0.4079,  1.3334, -0.7764,  0.6020, -0.2597, -0.9132, -2.1155,  0.1565,\n",
      "        -1.2615,  1.4866,  0.5561,  0.4372, -0.0382, -1.5180, -0.8812,  0.0138,\n",
      "        -0.1537, -0.9882,  1.4844,  0.4775, -0.4442,  0.4052,  0.0583, -0.8427,\n",
      "         0.1220,  1.0656,  1.0311, -2.1912,  0.6313, -0.6810, -1.2608, -0.4965,\n",
      "        -0.8982, -0.0246,  1.2030, -0.8742, -0.6771,  1.8891, -0.2641,  0.7401,\n",
      "         1.0928,  1.1541, -0.0426, -1.6451,  0.4244, -1.4211, -0.1050,  0.3751,\n",
      "         1.2831,  0.1727,  1.0059,  0.7913,  1.1024,  0.7694, -1.3544,  0.1974,\n",
      "        -2.7802, -0.7463, -0.2951,  0.7043,  0.4681, -0.8142, -0.3993,  1.0891,\n",
      "        -0.2619,  1.0819, -0.1875, -0.0961,  0.1767,  2.0458, -0.6308,  1.1335,\n",
      "        -0.3522, -1.5920,  2.0637, -0.0775, -1.1981,  0.5535, -0.9129, -0.6835,\n",
      "        -0.0444, -0.1215,  0.4145,  0.7970, -1.1134,  0.3288, -0.2297,  0.3765,\n",
      "         0.0559,  0.6177,  2.0378, -0.5183, -1.0098,  0.8980, -1.5795,  0.2159,\n",
      "        -1.4685,  0.4742,  1.1806, -0.0299, -0.3410, -0.2254,  0.9437, -0.0499,\n",
      "         0.0472, -1.4081,  0.8178,  1.3440,  0.3598,  1.1443, -0.6255, -0.2909,\n",
      "        -0.6205,  1.7877, -0.1964, -0.2204, -0.2199,  0.1790, -1.3693,  1.5343,\n",
      "         1.8522, -1.2935,  2.4520,  1.6289,  0.8597, -1.0676, -1.3786,  0.1969,\n",
      "         0.0484,  0.1013, -0.1863, -0.6386,  0.4080, -0.9137, -1.7599,  0.8510,\n",
      "        -1.8712, -0.2153, -0.7148, -0.7293, -0.0861,  2.0626, -0.2704,  0.9578,\n",
      "        -1.3478,  0.0700, -0.6274,  1.7080,  0.2039,  0.5610,  0.3441,  0.3595,\n",
      "        -0.0836, -1.1322,  0.7168,  0.5497,  0.8096,  1.5097, -0.2489, -1.4421,\n",
      "        -2.1404,  0.1596, -0.2124,  0.9270,  0.0119, -0.3897,  0.3079, -1.5957,\n",
      "        -0.3225,  1.1908, -1.0780,  0.8652, -1.0698,  1.5633,  0.6118,  0.3585,\n",
      "        -0.3840, -0.3508, -1.2690,  1.4262,  1.4146,  0.2975,  1.3514, -0.4022,\n",
      "         0.6015,  0.2779,  0.2675,  0.9218,  0.1012, -0.7165, -0.9404, -1.0634,\n",
      "         1.6012, -0.4527, -2.5621, -0.8602, -0.7818,  0.2798,  0.4150,  1.4705,\n",
      "        -0.5030,  0.0938, -0.2852,  0.4323,  0.9792, -1.2683, -0.6887,  0.3318,\n",
      "         0.7492, -0.1761,  0.2790, -1.3780, -0.4638,  0.3389, -0.9848, -1.2661,\n",
      "        -0.4727,  0.1101, -0.5356,  0.7505,  0.9266,  1.1001,  0.2069, -0.3438,\n",
      "        -1.7007,  1.2604,  0.1851,  0.6465,  1.5908, -0.9419,  0.4401,  0.5788,\n",
      "         1.2897, -0.6651, -0.6328, -0.9656,  1.0799,  0.1760, -1.2427, -0.5183,\n",
      "        -0.8356, -0.6623,  0.6976, -0.2249,  1.6991, -1.0903, -0.3642,  0.8805,\n",
      "         0.5050, -1.3175, -0.0881, -0.2441,  0.0620,  1.2351, -0.1947,  1.0410],\n",
      "       grad_fn=<SelectBackward0>)\n"
     ]
    }
   ],
   "source": [
    "# Create a dataloader to load our data in batches.\n",
    "max_length_of_each_example = 4\n",
    "dataloader = create_dataloader_v1(the_verdict_raw_text_for_gpt2_tokenizer, \n",
    "                                  batch_size=8, \n",
    "                                  max_length=max_length_of_each_example,\n",
    "                                  stride=max_length_of_each_example,\n",
    "                                  shuffle=False)\n",
    "\n",
    "data_iterator = iter(dataloader)\n",
    "inputs, outputs =next(data_iterator)\n",
    "\n",
    "#print(inputs)\n",
    "#print(outputs)\n",
    "\n",
    "# Shape is (8, 4, 256)\n",
    "# We have 8 examples. Each example has 4 tokens.\n",
    "# Each token has a 256 element embedding vector associated with it.\n",
    "\n",
    "# To summarize, the embedding layer is called on each individual element of the inputs tensor.\n",
    "# We get the embedding vectors associated with each token in our input, across all batches.\n",
    "token_embeddings = token_embedding_layer(inputs)\n",
    "\n",
    "print(token_embeddings[0,3])\n"
   ]
  },
  {
   "cell_type": "code",
   "execution_count": 19,
   "id": "0dffca97",
   "metadata": {},
   "outputs": [
    {
     "name": "stdout",
     "output_type": "stream",
     "text": [
      "torch.Size([4, 256])\n"
     ]
    }
   ],
   "source": [
    "# Create a second embedding layer to encode positional information of tokens.\n",
    "# We add the positional embedding vectors to the token-meaning embedding vectors \n",
    "# to create our input embedding vectors.\n",
    "\n",
    "# In practice, the context length, how many tokens GPT-2 can pay attention to at \n",
    "# once, is much bigger, on the scale of 1024 tokens or more. Modern GPT systems\n",
    "# can pay attention to much bigger context lengths.\n",
    "context_length = max_length_of_each_example\n",
    "\n",
    "# First dimension: The length of each example, or how many tokens are in each training example\n",
    "# Second dimension: The length of the embedding vector (same as the one for the token_embedding_layer)\n",
    "positional_embedding_layer = torch.nn.Embedding(context_length, output_dim)\n",
    "print(positional_embedding_layer.weight.shape)"
   ]
  },
  {
   "cell_type": "code",
   "execution_count": 20,
   "id": "da6c3399",
   "metadata": {},
   "outputs": [],
   "source": [
    "# We obtain every row of the weights matrix of our positional embedding layer.\n",
    "positional_embeddings = positional_embedding_layer(torch.arange(context_length))\n"
   ]
  },
  {
   "cell_type": "markdown",
   "id": "2ed4383f",
   "metadata": {},
   "source": [
    "#### Combine Token Embedding and Positional Embedding Information"
   ]
  },
  {
   "cell_type": "code",
   "execution_count": 21,
   "id": "b3a53fde",
   "metadata": {},
   "outputs": [
    {
     "name": "stdout",
     "output_type": "stream",
     "text": [
      "tensor([[[ 1.4970,  0.3141,  1.8200,  ...,  1.0933,  0.4070, -1.6585],\n",
      "         [ 0.6883, -2.0955,  0.7987,  ...,  0.2545,  0.3920, -0.6902],\n",
      "         [ 1.7570, -0.1174,  1.5699,  ...,  1.0220, -3.0590,  0.0119],\n",
      "         [ 0.0303,  2.5509, -0.4646,  ...,  0.4406,  0.6458,  1.2494]],\n",
      "\n",
      "        [[ 2.3469, -1.2378,  0.6323,  ..., -0.1104, -0.2579, -0.6035],\n",
      "         [ 0.2133,  0.0959, -1.7812,  ...,  1.1353, -0.0064, -1.0774],\n",
      "         [ 1.4297, -0.1182, -1.5221,  ...,  0.7327,  1.0956, -0.1765],\n",
      "         [-0.7327,  1.6162,  0.0551,  ..., -1.7444,  0.6004,  0.5153]],\n",
      "\n",
      "        [[ 0.1460, -0.5993,  3.2053,  ...,  0.2799, -0.1827,  0.7737],\n",
      "         [ 1.2244, -1.4739,  0.6926,  ..., -1.0876, -0.6567, -0.5738],\n",
      "         [ 0.9751,  1.0016,  1.8611,  ...,  1.4372, -0.7812,  0.8420],\n",
      "         [ 0.0985,  1.5736, -0.5514,  ..., -1.4153,  1.1628,  0.2084]],\n",
      "\n",
      "        ...,\n",
      "\n",
      "        [[ 1.3578, -0.6983,  1.4997,  ..., -1.2781,  0.9010, -0.9538],\n",
      "         [ 0.7567, -2.1431,  0.2507,  ..., -1.5667,  2.4807, -2.0364],\n",
      "         [ 2.0918,  0.8805,  1.6030,  ...,  1.7620,  0.5999,  0.6116],\n",
      "         [-0.7460,  1.0642,  0.1289,  ..., -1.6031,  0.4883,  1.6039]],\n",
      "\n",
      "        [[ 3.1700,  0.1409,  1.7436,  ..., -1.1399, -0.7284,  0.2352],\n",
      "         [-0.7008, -1.5114,  0.9647,  ..., -0.1282,  1.6043,  1.1227],\n",
      "         [ 0.9548, -0.0149, -0.5323,  ...,  2.1050,  1.7050,  0.7204],\n",
      "         [ 0.2807,  1.5769,  0.6160,  ...,  0.0565, -0.5302,  0.2787]],\n",
      "\n",
      "        [[ 0.7349,  0.1960, -0.6579,  ...,  1.1775,  1.8007, -1.1441],\n",
      "         [-0.4623, -1.2050,  0.8249,  ...,  0.3717, -0.3940,  1.6292],\n",
      "         [ 2.2024, -0.0778,  0.0766,  ...,  0.2592, -0.2295,  1.5568],\n",
      "         [-1.1348,  2.4819, -1.3858,  ..., -1.3035,  0.0768, -1.0415]]],\n",
      "       grad_fn=<AddBackward0>)\n"
     ]
    }
   ],
   "source": [
    "# By adding together token and positional embedding info, we ensure that - if \n",
    "# we repeat the same token over and over - the final input embeddings matrix\n",
    "# will be different for each token in a different position. Thus, the token embedding\n",
    "# will be the same, encoding we have the same word, but the positional embedding will\n",
    "# shift the final embedding result, indicating the word occurs at different positions\n",
    "# in the context window.\n",
    "input_embeddings = token_embeddings + positional_embeddings\n",
    "print(input_embeddings)"
   ]
  },
  {
   "cell_type": "markdown",
   "id": "d704941b",
   "metadata": {},
   "source": [
    "## Input Pipeline Is Finished!\n",
    "### We went through this process:\n",
    "#### Take in full text.\n",
    "#### Tokenize the text.\n",
    "#### Get token ids for each token.\n",
    "#### Get token embeddings for each token, and positional embeddings for the context length.\n",
    "#### Add up the positional embedding vector to each of the token embedding vectors we got from our batched inputs.\n",
    "## We have our input embedding vector after the addition!\n"
   ]
  }
 ],
 "metadata": {
  "kernelspec": {
   "display_name": "llm-from-scratch",
   "language": "python",
   "name": "python3"
  },
  "language_info": {
   "codemirror_mode": {
    "name": "ipython",
    "version": 3
   },
   "file_extension": ".py",
   "mimetype": "text/x-python",
   "name": "python",
   "nbconvert_exporter": "python",
   "pygments_lexer": "ipython3",
   "version": "3.10.18"
  }
 },
 "nbformat": 4,
 "nbformat_minor": 5
}
