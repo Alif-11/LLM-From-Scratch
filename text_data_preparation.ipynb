{
 "cells": [
  {
   "cell_type": "markdown",
   "id": "78621f7d",
   "metadata": {},
   "source": [
    "#### Get 'The Verdict' Text."
   ]
  },
  {
   "cell_type": "code",
   "execution_count": null,
   "id": "ac735184",
   "metadata": {},
   "outputs": [],
   "source": [
    "with open(\"data/the-verdict.txt\", \"r\") as the_verdict_file:\n",
    "  the_verdict_raw_text = the_verdict_file.read() # Read in text from 'The Verdict'\n",
    "\n",
    "print(the_verdict_raw_text)"
   ]
  },
  {
   "cell_type": "code",
   "execution_count": 7,
   "id": "028cd798",
   "metadata": {},
   "outputs": [
    {
     "data": {
      "text/plain": [
       "20479"
      ]
     },
     "execution_count": 7,
     "metadata": {},
     "output_type": "execute_result"
    }
   ],
   "source": [
    "len(the_verdict_raw_text)"
   ]
  },
  {
   "cell_type": "code",
   "execution_count": null,
   "id": "47e79584",
   "metadata": {},
   "outputs": [
    {
     "name": "stdout",
     "output_type": "stream",
     "text": [
      "['Hello,', ' ', 'this', ' ', 'is', ' ', 'textthat', ' ', 'will', ' ', 'be', ' ', 'used', ' ', 'for', ' ', 'regular', ' ', 'expression', ' ', 'examples.']\n"
     ]
    }
   ],
   "source": [
    "# Trialing out regular expression\n",
    "# Regular expression supplied by the video\n",
    "import re\n",
    "\n",
    "re_example_text = \"Hello, this is textthat will be used for regular expression examples.\"\n",
    "\n",
    "regular_expression_result = re.split(r'(\\s)', re_example_text)\n",
    "print(regular_expression_result)"
   ]
  },
  {
   "cell_type": "markdown",
   "id": "437dd4b4",
   "metadata": {},
   "source": [
    "#### Tokenize 'The Verdict', removing white space, punctuation, and treating individual words as tokens."
   ]
  },
  {
   "cell_type": "code",
   "execution_count": 18,
   "id": "98010ba4",
   "metadata": {},
   "outputs": [
    {
     "name": "stdout",
     "output_type": "stream",
     "text": [
      "4690\n"
     ]
    }
   ],
   "source": [
    "# Remove all punctuation and white space\n",
    "# Regular expression supplied by the video\n",
    "the_verdict_tokens = re.split(r'([,.:;?_!\"()\\']|--|\\s)', the_verdict_raw_text)\n",
    "the_verdict_tokens = [token for token in the_verdict_tokens if token.strip()]\n",
    "print(len(the_verdict_tokens))"
   ]
  },
  {
   "cell_type": "code",
   "execution_count": null,
   "id": "1d6b3f91",
   "metadata": {},
   "outputs": [],
   "source": [
    "# Exercise: Create byte pair algorithm. This will occur later in the video\n"
   ]
  }
 ],
 "metadata": {
  "kernelspec": {
   "display_name": "llm-from-scratch",
   "language": "python",
   "name": "python3"
  },
  "language_info": {
   "codemirror_mode": {
    "name": "ipython",
    "version": 3
   },
   "file_extension": ".py",
   "mimetype": "text/x-python",
   "name": "python",
   "nbconvert_exporter": "python",
   "pygments_lexer": "ipython3",
   "version": "3.10.18"
  }
 },
 "nbformat": 4,
 "nbformat_minor": 5
}
