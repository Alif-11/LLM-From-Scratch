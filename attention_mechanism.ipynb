{
 "cells": [
  {
   "cell_type": "markdown",
   "id": "55400ec4",
   "metadata": {},
   "source": [
    "####  Exploring Attention Mechanisms"
   ]
  },
  {
   "cell_type": "code",
   "execution_count": 25,
   "id": "6ca74ac6",
   "metadata": {},
   "outputs": [
    {
     "name": "stdout",
     "output_type": "stream",
     "text": [
      "tensor([0.4600, 0.8600, 0.8300])\n",
      "tensor(8.5637)\n"
     ]
    }
   ],
   "source": [
    "import torch\n",
    "import numpy as np\n",
    "\n",
    "inputs = torch.tensor([\n",
    "  [0.46, 0.86, 0.83],\n",
    "  [0.36, 0.74, 0.78],\n",
    "  [0.37, 0.94, 0.63],\n",
    "  [0.64, 0.52, 0.94],\n",
    "  [0.96, 0.84, 0.31],\n",
    "  [0.53, 0.74, 0.18],\n",
    "])\n",
    "\n",
    "context_token = inputs[0]\n",
    "print(context_token)\n",
    "\n",
    "result = torch.tensor(0.0)\n",
    "for index, tensor in enumerate(inputs):\n",
    "  result += torch.dot(context_token, inputs[index])\n",
    "\n",
    "print(torch.round(result, decimals=4))"
   ]
  }
 ],
 "metadata": {
  "kernelspec": {
   "display_name": "llm-from-scratch",
   "language": "python",
   "name": "python3"
  },
  "language_info": {
   "codemirror_mode": {
    "name": "ipython",
    "version": 3
   },
   "file_extension": ".py",
   "mimetype": "text/x-python",
   "name": "python",
   "nbconvert_exporter": "python",
   "pygments_lexer": "ipython3",
   "version": "3.10.18"
  }
 },
 "nbformat": 4,
 "nbformat_minor": 5
}
