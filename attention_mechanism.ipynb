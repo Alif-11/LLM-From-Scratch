{
 "cells": [
  {
   "cell_type": "markdown",
   "id": "55400ec4",
   "metadata": {},
   "source": [
    "####  Exploring Attention Mechanisms"
   ]
  },
  {
   "cell_type": "code",
   "execution_count": 31,
   "id": "6ca74ac6",
   "metadata": {},
   "outputs": [
    {
     "name": "stdout",
     "output_type": "stream",
     "text": [
      "tensor([1.6401, 1.4494, 1.5015, 1.5218, 1.4213, 1.0296])\n"
     ]
    }
   ],
   "source": [
    "import torch\n",
    "import numpy as np\n",
    "\n",
    "inputs = torch.tensor([\n",
    "  [0.46, 0.86, 0.83],\n",
    "  [0.36, 0.74, 0.78],\n",
    "  [0.37, 0.94, 0.63],\n",
    "  [0.64, 0.52, 0.94],\n",
    "  [0.96, 0.84, 0.31],\n",
    "  [0.53, 0.74, 0.18],\n",
    "])\n",
    "\n",
    "query_token = inputs[0]\n",
    "#print(inputs.shape)\n",
    "\n",
    "## This vector holds the dot product results between each embedding vector\n",
    "## for each token in our context and the embedding vector of our query token,\n",
    "## our query token being the token we're using to try and predict what word w\n",
    "## should come next.\n",
    "attention_score_vector = torch.empty(inputs.shape[0])\n",
    "#print(\"Attention\", attention_result_vector)\n",
    "\n",
    "for index, tensor in enumerate(inputs):\n",
    "  attention_score_vector[index] = torch.dot(query_token, inputs[index])\n",
    "\n",
    "print(torch.round(attention_score_vector, decimals=4))"
   ]
  },
  {
   "cell_type": "markdown",
   "id": "f7487b60",
   "metadata": {},
   "source": [
    "#### Now, we wish to normalize the attention score vector\n",
    "##### Helps with optimization - to work with smaller numbers."
   ]
  },
  {
   "cell_type": "code",
   "execution_count": 32,
   "id": "24b3e410",
   "metadata": {},
   "outputs": [
    {
     "name": "stdout",
     "output_type": "stream",
     "text": [
      "tensor([1.6401, 1.4494, 1.5015, 1.5218, 1.4213, 1.0296])\n",
      "tensor([0.1915, 0.1692, 0.1753, 0.1777, 0.1660, 0.1202])\n"
     ]
    }
   ],
   "source": [
    "attention_score_vector_normalized = attention_score_vector/torch.sum(attention_score_vector)\n",
    "print(attention_score_vector)\n",
    "print(attention_score_vector_normalized)"
   ]
  }
 ],
 "metadata": {
  "kernelspec": {
   "display_name": "llm-from-scratch",
   "language": "python",
   "name": "python3"
  },
  "language_info": {
   "codemirror_mode": {
    "name": "ipython",
    "version": 3
   },
   "file_extension": ".py",
   "mimetype": "text/x-python",
   "name": "python",
   "nbconvert_exporter": "python",
   "pygments_lexer": "ipython3",
   "version": "3.10.18"
  }
 },
 "nbformat": 4,
 "nbformat_minor": 5
}
